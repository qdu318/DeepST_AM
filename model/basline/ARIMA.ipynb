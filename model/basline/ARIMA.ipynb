{
 "cells": [
  {
   "cell_type": "code",
   "execution_count": 57,
   "metadata": {
    "collapsed": true,
    "pycharm": {
     "name": "#%%\n"
    }
   },
   "outputs": [],
   "source": [
    "import pandas as pd\n",
    "import numpy as np\n",
    "import json\n",
    "import pickle\n",
    "from utils.data_load import Data_load\n",
    "import matplotlib.pyplot as plt\n",
    "import statsmodels.api as sm\n",
    "from statsmodels.stats.diagnostic import acorr_ljungbox\n",
    "from statsmodels.graphics.tsaplots import plot_pacf,plot_acf"
   ]
  },
  {
   "cell_type": "code",
   "execution_count": 2,
   "outputs": [],
   "source": [
    "config = json.load(open('./config.json', 'r'))\n",
    "NATree, data_set = Data_load(config, 12, 4, 1, 1, 1)"
   ],
   "metadata": {
    "collapsed": false,
    "pycharm": {
     "name": "#%%\n"
    }
   }
  },
  {
   "cell_type": "code",
   "execution_count": 3,
   "outputs": [],
   "source": [
    "X_train, y_train = data_set['train']['week'], data_set['train']['target']\n",
    "X_test, y_test = data_set['test']['week'], data_set['test']['target']"
   ],
   "metadata": {
    "collapsed": false,
    "pycharm": {
     "name": "#%%\n"
    }
   }
  },
  {
   "cell_type": "code",
   "execution_count": 4,
   "outputs": [],
   "source": [
    "X_train = X_train[:, 2, 0, :]\n",
    "y_train = y_train[:, 2, :]\n",
    "X_test = X_test[:, 2, 0, :]\n",
    "y_test = y_test[:, 2, :]"
   ],
   "metadata": {
    "collapsed": false,
    "pycharm": {
     "name": "#%%\n"
    }
   }
  },
  {
   "cell_type": "code",
   "execution_count": 23,
   "outputs": [],
   "source": [
    "std = data_set['X_std']\n",
    "mean = data_set['X_mean']"
   ],
   "metadata": {
    "collapsed": false,
    "pycharm": {
     "name": "#%%\n"
    }
   }
  },
  {
   "cell_type": "code",
   "execution_count": 29,
   "outputs": [],
   "source": [
    "train = X_test[:, 3]"
   ],
   "metadata": {
    "collapsed": false,
    "pycharm": {
     "name": "#%%\n"
    }
   }
  },
  {
   "cell_type": "code",
   "execution_count": 30,
   "outputs": [
    {
     "name": "stdout",
     "output_type": "stream",
     "text": [
      "(-2.104133107803079, 0.24285590924443556, 3, 58, {'1%': -3.548493559596539, '5%': -2.912836594776334, '10%': -2.594129155766944}, -35.90480089327174)\n"
     ]
    }
   ],
   "source": [
    "#单位根检验-ADF检验\n",
    "print(sm.tsa.stattools.adfuller(train))"
   ],
   "metadata": {
    "collapsed": false,
    "pycharm": {
     "name": "#%%\n"
    }
   }
  },
  {
   "cell_type": "code",
   "execution_count": 31,
   "outputs": [
    {
     "data": {
      "text/plain": "       lb_stat     lb_pvalue     bp_stat     bp_pvalue\n6   263.796212  4.606940e-54  242.460307  1.674053e-49\n12  374.820992  8.037548e-73  334.499099  2.601280e-64",
      "text/html": "<div>\n<style scoped>\n    .dataframe tbody tr th:only-of-type {\n        vertical-align: middle;\n    }\n\n    .dataframe tbody tr th {\n        vertical-align: top;\n    }\n\n    .dataframe thead th {\n        text-align: right;\n    }\n</style>\n<table border=\"1\" class=\"dataframe\">\n  <thead>\n    <tr style=\"text-align: right;\">\n      <th></th>\n      <th>lb_stat</th>\n      <th>lb_pvalue</th>\n      <th>bp_stat</th>\n      <th>bp_pvalue</th>\n    </tr>\n  </thead>\n  <tbody>\n    <tr>\n      <th>6</th>\n      <td>263.796212</td>\n      <td>4.606940e-54</td>\n      <td>242.460307</td>\n      <td>1.674053e-49</td>\n    </tr>\n    <tr>\n      <th>12</th>\n      <td>374.820992</td>\n      <td>8.037548e-73</td>\n      <td>334.499099</td>\n      <td>2.601280e-64</td>\n    </tr>\n  </tbody>\n</table>\n</div>"
     },
     "execution_count": 31,
     "metadata": {},
     "output_type": "execute_result"
    }
   ],
   "source": [
    "#白噪声检验\n",
    "acorr_ljungbox(train, lags = [6, 12], boxpierce=True)"
   ],
   "metadata": {
    "collapsed": false,
    "pycharm": {
     "name": "#%%\n"
    }
   }
  },
  {
   "cell_type": "code",
   "execution_count": 32,
   "outputs": [
    {
     "name": "stderr",
     "output_type": "stream",
     "text": [
      "D:\\Python_ENV\\PYTORCH\\Scripts\\ASTGCN-origin-master\\lib\\site-packages\\IPython\\core\\pylabtools.py:151: UserWarning: Glyph 26102 (\\N{CJK UNIFIED IDEOGRAPH-65F6}) missing from current font.\n",
      "  fig.canvas.print_figure(bytes_io, **kw)\n",
      "D:\\Python_ENV\\PYTORCH\\Scripts\\ASTGCN-origin-master\\lib\\site-packages\\IPython\\core\\pylabtools.py:151: UserWarning: Glyph 38388 (\\N{CJK UNIFIED IDEOGRAPH-95F4}) missing from current font.\n",
      "  fig.canvas.print_figure(bytes_io, **kw)\n",
      "D:\\Python_ENV\\PYTORCH\\Scripts\\ASTGCN-origin-master\\lib\\site-packages\\IPython\\core\\pylabtools.py:151: UserWarning: Glyph 24207 (\\N{CJK UNIFIED IDEOGRAPH-5E8F}) missing from current font.\n",
      "  fig.canvas.print_figure(bytes_io, **kw)\n",
      "D:\\Python_ENV\\PYTORCH\\Scripts\\ASTGCN-origin-master\\lib\\site-packages\\IPython\\core\\pylabtools.py:151: UserWarning: Glyph 21015 (\\N{CJK UNIFIED IDEOGRAPH-5217}) missing from current font.\n",
      "  fig.canvas.print_figure(bytes_io, **kw)\n",
      "D:\\Python_ENV\\PYTORCH\\Scripts\\ASTGCN-origin-master\\lib\\site-packages\\IPython\\core\\pylabtools.py:151: UserWarning: Glyph 30456 (\\N{CJK UNIFIED IDEOGRAPH-76F8}) missing from current font.\n",
      "  fig.canvas.print_figure(bytes_io, **kw)\n",
      "D:\\Python_ENV\\PYTORCH\\Scripts\\ASTGCN-origin-master\\lib\\site-packages\\IPython\\core\\pylabtools.py:151: UserWarning: Glyph 20851 (\\N{CJK UNIFIED IDEOGRAPH-5173}) missing from current font.\n",
      "  fig.canvas.print_figure(bytes_io, **kw)\n",
      "D:\\Python_ENV\\PYTORCH\\Scripts\\ASTGCN-origin-master\\lib\\site-packages\\IPython\\core\\pylabtools.py:151: UserWarning: Glyph 24615 (\\N{CJK UNIFIED IDEOGRAPH-6027}) missing from current font.\n",
      "  fig.canvas.print_figure(bytes_io, **kw)\n",
      "D:\\Python_ENV\\PYTORCH\\Scripts\\ASTGCN-origin-master\\lib\\site-packages\\IPython\\core\\pylabtools.py:151: UserWarning: Glyph 22270 (\\N{CJK UNIFIED IDEOGRAPH-56FE}) missing from current font.\n",
      "  fig.canvas.print_figure(bytes_io, **kw)\n"
     ]
    },
    {
     "data": {
      "text/plain": "<Figure size 640x480 with 1 Axes>",
      "image/png": "[encoded data removed]"
     },
     "metadata": {},
     "output_type": "display_data"
    }
   ],
   "source": [
    "#计算ACF，PACF\n",
    "acf = plot_acf(train)\n",
    "plt.title(\"时间序列相关性图\")\n",
    "plt.show()"
   ],
   "metadata": {
    "collapsed": false,
    "pycharm": {
     "name": "#%%\n"
    }
   }
  },
  {
   "cell_type": "code",
   "execution_count": 33,
   "outputs": [
    {
     "name": "stderr",
     "output_type": "stream",
     "text": [
      "D:\\Python_ENV\\PYTORCH\\Scripts\\ASTGCN-origin-master\\lib\\site-packages\\IPython\\core\\pylabtools.py:151: UserWarning: Glyph 20559 (\\N{CJK UNIFIED IDEOGRAPH-504F}) missing from current font.\n",
      "  fig.canvas.print_figure(bytes_io, **kw)\n",
      "D:\\Python_ENV\\PYTORCH\\Scripts\\ASTGCN-origin-master\\lib\\site-packages\\IPython\\core\\pylabtools.py:151: UserWarning: Glyph 33258 (\\N{CJK UNIFIED IDEOGRAPH-81EA}) missing from current font.\n",
      "  fig.canvas.print_figure(bytes_io, **kw)\n",
      "D:\\Python_ENV\\PYTORCH\\Scripts\\ASTGCN-origin-master\\lib\\site-packages\\IPython\\core\\pylabtools.py:151: UserWarning: Glyph 30456 (\\N{CJK UNIFIED IDEOGRAPH-76F8}) missing from current font.\n",
      "  fig.canvas.print_figure(bytes_io, **kw)\n",
      "D:\\Python_ENV\\PYTORCH\\Scripts\\ASTGCN-origin-master\\lib\\site-packages\\IPython\\core\\pylabtools.py:151: UserWarning: Glyph 20851 (\\N{CJK UNIFIED IDEOGRAPH-5173}) missing from current font.\n",
      "  fig.canvas.print_figure(bytes_io, **kw)\n",
      "D:\\Python_ENV\\PYTORCH\\Scripts\\ASTGCN-origin-master\\lib\\site-packages\\IPython\\core\\pylabtools.py:151: UserWarning: Glyph 22270 (\\N{CJK UNIFIED IDEOGRAPH-56FE}) missing from current font.\n",
      "  fig.canvas.print_figure(bytes_io, **kw)\n"
     ]
    },
    {
     "data": {
      "text/plain": "<Figure size 640x480 with 1 Axes>",
      "image/png": "[encoded data removed]"
     },
     "metadata": {},
     "output_type": "display_data"
    }
   ],
   "source": [
    "#计算PACF\n",
    "pacf = plot_pacf(train)\n",
    "plt.title(\"偏自相关图\")\n",
    "plt.show()"
   ],
   "metadata": {
    "collapsed": false,
    "pycharm": {
     "name": "#%%\n"
    }
   }
  },
  {
   "cell_type": "code",
   "execution_count": 34,
   "outputs": [
    {
     "name": "stderr",
     "output_type": "stream",
     "text": [
      "D:\\Python_ENV\\PYTORCH\\Scripts\\ASTGCN-origin-master\\lib\\site-packages\\statsmodels\\base\\model.py:607: ConvergenceWarning: Maximum Likelihood optimization failed to converge. Check mle_retvals\n",
      "  warnings.warn(\"Maximum Likelihood optimization failed to \"\n",
      "D:\\Python_ENV\\PYTORCH\\Scripts\\ASTGCN-origin-master\\lib\\site-packages\\statsmodels\\base\\model.py:607: ConvergenceWarning: Maximum Likelihood optimization failed to converge. Check mle_retvals\n",
      "  warnings.warn(\"Maximum Likelihood optimization failed to \"\n",
      "D:\\Python_ENV\\PYTORCH\\Scripts\\ASTGCN-origin-master\\lib\\site-packages\\statsmodels\\base\\model.py:607: ConvergenceWarning: Maximum Likelihood optimization failed to converge. Check mle_retvals\n",
      "  warnings.warn(\"Maximum Likelihood optimization failed to \"\n",
      "D:\\Python_ENV\\PYTORCH\\Scripts\\ASTGCN-origin-master\\lib\\site-packages\\statsmodels\\base\\model.py:607: ConvergenceWarning: Maximum Likelihood optimization failed to converge. Check mle_retvals\n",
      "  warnings.warn(\"Maximum Likelihood optimization failed to \"\n",
      "D:\\Python_ENV\\PYTORCH\\Scripts\\ASTGCN-origin-master\\lib\\site-packages\\statsmodels\\base\\model.py:607: ConvergenceWarning: Maximum Likelihood optimization failed to converge. Check mle_retvals\n",
      "  warnings.warn(\"Maximum Likelihood optimization failed to \"\n",
      "D:\\Python_ENV\\PYTORCH\\Scripts\\ASTGCN-origin-master\\lib\\site-packages\\statsmodels\\base\\model.py:607: ConvergenceWarning: Maximum Likelihood optimization failed to converge. Check mle_retvals\n",
      "  warnings.warn(\"Maximum Likelihood optimization failed to \"\n",
      "D:\\Python_ENV\\PYTORCH\\Scripts\\ASTGCN-origin-master\\lib\\site-packages\\statsmodels\\tsa\\statespace\\sarimax.py:966: UserWarning: Non-stationary starting autoregressive parameters found. Using zeros as starting parameters.\n",
      "  warn('Non-stationary starting autoregressive parameters'\n",
      "D:\\Python_ENV\\PYTORCH\\Scripts\\ASTGCN-origin-master\\lib\\site-packages\\statsmodels\\tsa\\statespace\\sarimax.py:978: UserWarning: Non-invertible starting MA parameters found. Using zeros as starting parameters.\n",
      "  warn('Non-invertible starting MA parameters found.'\n",
      "D:\\Python_ENV\\PYTORCH\\Scripts\\ASTGCN-origin-master\\lib\\site-packages\\statsmodels\\base\\model.py:607: ConvergenceWarning: Maximum Likelihood optimization failed to converge. Check mle_retvals\n",
      "  warnings.warn(\"Maximum Likelihood optimization failed to \"\n",
      "D:\\Python_ENV\\PYTORCH\\Scripts\\ASTGCN-origin-master\\lib\\site-packages\\statsmodels\\base\\model.py:607: ConvergenceWarning: Maximum Likelihood optimization failed to converge. Check mle_retvals\n",
      "  warnings.warn(\"Maximum Likelihood optimization failed to \"\n",
      "D:\\Python_ENV\\PYTORCH\\Scripts\\ASTGCN-origin-master\\lib\\site-packages\\statsmodels\\base\\model.py:607: ConvergenceWarning: Maximum Likelihood optimization failed to converge. Check mle_retvals\n",
      "  warnings.warn(\"Maximum Likelihood optimization failed to \"\n",
      "D:\\Python_ENV\\PYTORCH\\Scripts\\ASTGCN-origin-master\\lib\\site-packages\\statsmodels\\base\\model.py:607: ConvergenceWarning: Maximum Likelihood optimization failed to converge. Check mle_retvals\n",
      "  warnings.warn(\"Maximum Likelihood optimization failed to \"\n",
      "D:\\Python_ENV\\PYTORCH\\Scripts\\ASTGCN-origin-master\\lib\\site-packages\\statsmodels\\base\\model.py:607: ConvergenceWarning: Maximum Likelihood optimization failed to converge. Check mle_retvals\n",
      "  warnings.warn(\"Maximum Likelihood optimization failed to \"\n",
      "D:\\Python_ENV\\PYTORCH\\Scripts\\ASTGCN-origin-master\\lib\\site-packages\\statsmodels\\base\\model.py:607: ConvergenceWarning: Maximum Likelihood optimization failed to converge. Check mle_retvals\n",
      "  warnings.warn(\"Maximum Likelihood optimization failed to \"\n",
      "D:\\Python_ENV\\PYTORCH\\Scripts\\ASTGCN-origin-master\\lib\\site-packages\\statsmodels\\base\\model.py:607: ConvergenceWarning: Maximum Likelihood optimization failed to converge. Check mle_retvals\n",
      "  warnings.warn(\"Maximum Likelihood optimization failed to \"\n",
      "D:\\Python_ENV\\PYTORCH\\Scripts\\ASTGCN-origin-master\\lib\\site-packages\\statsmodels\\base\\model.py:607: ConvergenceWarning: Maximum Likelihood optimization failed to converge. Check mle_retvals\n",
      "  warnings.warn(\"Maximum Likelihood optimization failed to \"\n",
      "D:\\Python_ENV\\PYTORCH\\Scripts\\ASTGCN-origin-master\\lib\\site-packages\\statsmodels\\base\\model.py:607: ConvergenceWarning: Maximum Likelihood optimization failed to converge. Check mle_retvals\n",
      "  warnings.warn(\"Maximum Likelihood optimization failed to \"\n",
      "D:\\Python_ENV\\PYTORCH\\Scripts\\ASTGCN-origin-master\\lib\\site-packages\\statsmodels\\base\\model.py:607: ConvergenceWarning: Maximum Likelihood optimization failed to converge. Check mle_retvals\n",
      "  warnings.warn(\"Maximum Likelihood optimization failed to \"\n",
      "D:\\Python_ENV\\PYTORCH\\Scripts\\ASTGCN-origin-master\\lib\\site-packages\\statsmodels\\base\\model.py:607: ConvergenceWarning: Maximum Likelihood optimization failed to converge. Check mle_retvals\n",
      "  warnings.warn(\"Maximum Likelihood optimization failed to \"\n",
      "D:\\Python_ENV\\PYTORCH\\Scripts\\ASTGCN-origin-master\\lib\\site-packages\\statsmodels\\base\\model.py:607: ConvergenceWarning: Maximum Likelihood optimization failed to converge. Check mle_retvals\n",
      "  warnings.warn(\"Maximum Likelihood optimization failed to \"\n",
      "D:\\Python_ENV\\PYTORCH\\Scripts\\ASTGCN-origin-master\\lib\\site-packages\\statsmodels\\base\\model.py:607: ConvergenceWarning: Maximum Likelihood optimization failed to converge. Check mle_retvals\n",
      "  warnings.warn(\"Maximum Likelihood optimization failed to \"\n",
      "D:\\Python_ENV\\PYTORCH\\Scripts\\ASTGCN-origin-master\\lib\\site-packages\\statsmodels\\base\\model.py:607: ConvergenceWarning: Maximum Likelihood optimization failed to converge. Check mle_retvals\n",
      "  warnings.warn(\"Maximum Likelihood optimization failed to \"\n",
      "D:\\Python_ENV\\PYTORCH\\Scripts\\ASTGCN-origin-master\\lib\\site-packages\\statsmodels\\base\\model.py:607: ConvergenceWarning: Maximum Likelihood optimization failed to converge. Check mle_retvals\n",
      "  warnings.warn(\"Maximum Likelihood optimization failed to \"\n",
      "D:\\Python_ENV\\PYTORCH\\Scripts\\ASTGCN-origin-master\\lib\\site-packages\\statsmodels\\base\\model.py:607: ConvergenceWarning: Maximum Likelihood optimization failed to converge. Check mle_retvals\n",
      "  warnings.warn(\"Maximum Likelihood optimization failed to \"\n",
      "D:\\Python_ENV\\PYTORCH\\Scripts\\ASTGCN-origin-master\\lib\\site-packages\\statsmodels\\base\\model.py:607: ConvergenceWarning: Maximum Likelihood optimization failed to converge. Check mle_retvals\n",
      "  warnings.warn(\"Maximum Likelihood optimization failed to \"\n",
      "D:\\Python_ENV\\PYTORCH\\Scripts\\ASTGCN-origin-master\\lib\\site-packages\\statsmodels\\base\\model.py:607: ConvergenceWarning: Maximum Likelihood optimization failed to converge. Check mle_retvals\n",
      "  warnings.warn(\"Maximum Likelihood optimization failed to \"\n",
      "D:\\Python_ENV\\PYTORCH\\Scripts\\ASTGCN-origin-master\\lib\\site-packages\\statsmodels\\base\\model.py:607: ConvergenceWarning: Maximum Likelihood optimization failed to converge. Check mle_retvals\n",
      "  warnings.warn(\"Maximum Likelihood optimization failed to \"\n",
      "D:\\Python_ENV\\PYTORCH\\Scripts\\ASTGCN-origin-master\\lib\\site-packages\\statsmodels\\base\\model.py:607: ConvergenceWarning: Maximum Likelihood optimization failed to converge. Check mle_retvals\n",
      "  warnings.warn(\"Maximum Likelihood optimization failed to \"\n",
      "D:\\Python_ENV\\PYTORCH\\Scripts\\ASTGCN-origin-master\\lib\\site-packages\\statsmodels\\base\\model.py:607: ConvergenceWarning: Maximum Likelihood optimization failed to converge. Check mle_retvals\n",
      "  warnings.warn(\"Maximum Likelihood optimization failed to \"\n",
      "D:\\Python_ENV\\PYTORCH\\Scripts\\ASTGCN-origin-master\\lib\\site-packages\\statsmodels\\base\\model.py:607: ConvergenceWarning: Maximum Likelihood optimization failed to converge. Check mle_retvals\n",
      "  warnings.warn(\"Maximum Likelihood optimization failed to \"\n",
      "D:\\Python_ENV\\PYTORCH\\Scripts\\ASTGCN-origin-master\\lib\\site-packages\\statsmodels\\base\\model.py:607: ConvergenceWarning: Maximum Likelihood optimization failed to converge. Check mle_retvals\n",
      "  warnings.warn(\"Maximum Likelihood optimization failed to \"\n",
      "D:\\Python_ENV\\PYTORCH\\Scripts\\ASTGCN-origin-master\\lib\\site-packages\\statsmodels\\base\\model.py:607: ConvergenceWarning: Maximum Likelihood optimization failed to converge. Check mle_retvals\n",
      "  warnings.warn(\"Maximum Likelihood optimization failed to \"\n",
      "D:\\Python_ENV\\PYTORCH\\Scripts\\ASTGCN-origin-master\\lib\\site-packages\\statsmodels\\base\\model.py:607: ConvergenceWarning: Maximum Likelihood optimization failed to converge. Check mle_retvals\n",
      "  warnings.warn(\"Maximum Likelihood optimization failed to \"\n",
      "D:\\Python_ENV\\PYTORCH\\Scripts\\ASTGCN-origin-master\\lib\\site-packages\\statsmodels\\base\\model.py:607: ConvergenceWarning: Maximum Likelihood optimization failed to converge. Check mle_retvals\n",
      "  warnings.warn(\"Maximum Likelihood optimization failed to \"\n",
      "D:\\Python_ENV\\PYTORCH\\Scripts\\ASTGCN-origin-master\\lib\\site-packages\\statsmodels\\base\\model.py:607: ConvergenceWarning: Maximum Likelihood optimization failed to converge. Check mle_retvals\n",
      "  warnings.warn(\"Maximum Likelihood optimization failed to \"\n",
      "D:\\Python_ENV\\PYTORCH\\Scripts\\ASTGCN-origin-master\\lib\\site-packages\\statsmodels\\base\\model.py:607: ConvergenceWarning: Maximum Likelihood optimization failed to converge. Check mle_retvals\n",
      "  warnings.warn(\"Maximum Likelihood optimization failed to \"\n",
      "D:\\Python_ENV\\PYTORCH\\Scripts\\ASTGCN-origin-master\\lib\\site-packages\\statsmodels\\base\\model.py:607: ConvergenceWarning: Maximum Likelihood optimization failed to converge. Check mle_retvals\n",
      "  warnings.warn(\"Maximum Likelihood optimization failed to \"\n",
      "D:\\Python_ENV\\PYTORCH\\Scripts\\ASTGCN-origin-master\\lib\\site-packages\\statsmodels\\base\\model.py:607: ConvergenceWarning: Maximum Likelihood optimization failed to converge. Check mle_retvals\n",
      "  warnings.warn(\"Maximum Likelihood optimization failed to \"\n",
      "D:\\Python_ENV\\PYTORCH\\Scripts\\ASTGCN-origin-master\\lib\\site-packages\\statsmodels\\base\\model.py:607: ConvergenceWarning: Maximum Likelihood optimization failed to converge. Check mle_retvals\n",
      "  warnings.warn(\"Maximum Likelihood optimization failed to \"\n",
      "D:\\Python_ENV\\PYTORCH\\Scripts\\ASTGCN-origin-master\\lib\\site-packages\\statsmodels\\base\\model.py:607: ConvergenceWarning: Maximum Likelihood optimization failed to converge. Check mle_retvals\n",
      "  warnings.warn(\"Maximum Likelihood optimization failed to \"\n",
      "D:\\Python_ENV\\PYTORCH\\Scripts\\ASTGCN-origin-master\\lib\\site-packages\\statsmodels\\base\\model.py:607: ConvergenceWarning: Maximum Likelihood optimization failed to converge. Check mle_retvals\n",
      "  warnings.warn(\"Maximum Likelihood optimization failed to \"\n",
      "D:\\Python_ENV\\PYTORCH\\Scripts\\ASTGCN-origin-master\\lib\\site-packages\\statsmodels\\base\\model.py:607: ConvergenceWarning: Maximum Likelihood optimization failed to converge. Check mle_retvals\n",
      "  warnings.warn(\"Maximum Likelihood optimization failed to \"\n",
      "D:\\Python_ENV\\PYTORCH\\Scripts\\ASTGCN-origin-master\\lib\\site-packages\\statsmodels\\base\\model.py:607: ConvergenceWarning: Maximum Likelihood optimization failed to converge. Check mle_retvals\n",
      "  warnings.warn(\"Maximum Likelihood optimization failed to \"\n",
      "D:\\Python_ENV\\PYTORCH\\Scripts\\ASTGCN-origin-master\\lib\\site-packages\\statsmodels\\base\\model.py:607: ConvergenceWarning: Maximum Likelihood optimization failed to converge. Check mle_retvals\n",
      "  warnings.warn(\"Maximum Likelihood optimization failed to \"\n",
      "D:\\Python_ENV\\PYTORCH\\Scripts\\ASTGCN-origin-master\\lib\\site-packages\\statsmodels\\base\\model.py:607: ConvergenceWarning: Maximum Likelihood optimization failed to converge. Check mle_retvals\n",
      "  warnings.warn(\"Maximum Likelihood optimization failed to \"\n",
      "D:\\Python_ENV\\PYTORCH\\Scripts\\ASTGCN-origin-master\\lib\\site-packages\\statsmodels\\base\\model.py:607: ConvergenceWarning: Maximum Likelihood optimization failed to converge. Check mle_retvals\n",
      "  warnings.warn(\"Maximum Likelihood optimization failed to \"\n",
      "D:\\Python_ENV\\PYTORCH\\Scripts\\ASTGCN-origin-master\\lib\\site-packages\\statsmodels\\base\\model.py:607: ConvergenceWarning: Maximum Likelihood optimization failed to converge. Check mle_retvals\n",
      "  warnings.warn(\"Maximum Likelihood optimization failed to \"\n",
      "D:\\Python_ENV\\PYTORCH\\Scripts\\ASTGCN-origin-master\\lib\\site-packages\\statsmodels\\base\\model.py:607: ConvergenceWarning: Maximum Likelihood optimization failed to converge. Check mle_retvals\n",
      "  warnings.warn(\"Maximum Likelihood optimization failed to \"\n",
      "D:\\Python_ENV\\PYTORCH\\Scripts\\ASTGCN-origin-master\\lib\\site-packages\\statsmodels\\base\\model.py:607: ConvergenceWarning: Maximum Likelihood optimization failed to converge. Check mle_retvals\n",
      "  warnings.warn(\"Maximum Likelihood optimization failed to \"\n",
      "D:\\Python_ENV\\PYTORCH\\Scripts\\ASTGCN-origin-master\\lib\\site-packages\\statsmodels\\base\\model.py:607: ConvergenceWarning: Maximum Likelihood optimization failed to converge. Check mle_retvals\n",
      "  warnings.warn(\"Maximum Likelihood optimization failed to \"\n",
      "D:\\Python_ENV\\PYTORCH\\Scripts\\ASTGCN-origin-master\\lib\\site-packages\\statsmodels\\base\\model.py:607: ConvergenceWarning: Maximum Likelihood optimization failed to converge. Check mle_retvals\n",
      "  warnings.warn(\"Maximum Likelihood optimization failed to \"\n",
      "D:\\Python_ENV\\PYTORCH\\Scripts\\ASTGCN-origin-master\\lib\\site-packages\\statsmodels\\base\\model.py:607: ConvergenceWarning: Maximum Likelihood optimization failed to converge. Check mle_retvals\n",
      "  warnings.warn(\"Maximum Likelihood optimization failed to \"\n",
      "D:\\Python_ENV\\PYTORCH\\Scripts\\ASTGCN-origin-master\\lib\\site-packages\\statsmodels\\base\\model.py:607: ConvergenceWarning: Maximum Likelihood optimization failed to converge. Check mle_retvals\n",
      "  warnings.warn(\"Maximum Likelihood optimization failed to \"\n",
      "D:\\Python_ENV\\PYTORCH\\Scripts\\ASTGCN-origin-master\\lib\\site-packages\\statsmodels\\base\\model.py:607: ConvergenceWarning: Maximum Likelihood optimization failed to converge. Check mle_retvals\n",
      "  warnings.warn(\"Maximum Likelihood optimization failed to \"\n",
      "D:\\Python_ENV\\PYTORCH\\Scripts\\ASTGCN-origin-master\\lib\\site-packages\\statsmodels\\base\\model.py:607: ConvergenceWarning: Maximum Likelihood optimization failed to converge. Check mle_retvals\n",
      "  warnings.warn(\"Maximum Likelihood optimization failed to \"\n",
      "D:\\Python_ENV\\PYTORCH\\Scripts\\ASTGCN-origin-master\\lib\\site-packages\\statsmodels\\base\\model.py:607: ConvergenceWarning: Maximum Likelihood optimization failed to converge. Check mle_retvals\n",
      "  warnings.warn(\"Maximum Likelihood optimization failed to \"\n",
      "D:\\Python_ENV\\PYTORCH\\Scripts\\ASTGCN-origin-master\\lib\\site-packages\\statsmodels\\base\\model.py:607: ConvergenceWarning: Maximum Likelihood optimization failed to converge. Check mle_retvals\n",
      "  warnings.warn(\"Maximum Likelihood optimization failed to \"\n",
      "D:\\Python_ENV\\PYTORCH\\Scripts\\ASTGCN-origin-master\\lib\\site-packages\\statsmodels\\base\\model.py:607: ConvergenceWarning: Maximum Likelihood optimization failed to converge. Check mle_retvals\n",
      "  warnings.warn(\"Maximum Likelihood optimization failed to \"\n",
      "D:\\Python_ENV\\PYTORCH\\Scripts\\ASTGCN-origin-master\\lib\\site-packages\\statsmodels\\base\\model.py:607: ConvergenceWarning: Maximum Likelihood optimization failed to converge. Check mle_retvals\n",
      "  warnings.warn(\"Maximum Likelihood optimization failed to \"\n",
      "D:\\Python_ENV\\PYTORCH\\Scripts\\ASTGCN-origin-master\\lib\\site-packages\\statsmodels\\base\\model.py:607: ConvergenceWarning: Maximum Likelihood optimization failed to converge. Check mle_retvals\n",
      "  warnings.warn(\"Maximum Likelihood optimization failed to \"\n",
      "D:\\Python_ENV\\PYTORCH\\Scripts\\ASTGCN-origin-master\\lib\\site-packages\\statsmodels\\base\\model.py:607: ConvergenceWarning: Maximum Likelihood optimization failed to converge. Check mle_retvals\n",
      "  warnings.warn(\"Maximum Likelihood optimization failed to \"\n",
      "D:\\Python_ENV\\PYTORCH\\Scripts\\ASTGCN-origin-master\\lib\\site-packages\\statsmodels\\base\\model.py:607: ConvergenceWarning: Maximum Likelihood optimization failed to converge. Check mle_retvals\n",
      "  warnings.warn(\"Maximum Likelihood optimization failed to \"\n",
      "D:\\Python_ENV\\PYTORCH\\Scripts\\ASTGCN-origin-master\\lib\\site-packages\\statsmodels\\base\\model.py:607: ConvergenceWarning: Maximum Likelihood optimization failed to converge. Check mle_retvals\n",
      "  warnings.warn(\"Maximum Likelihood optimization failed to \"\n",
      "D:\\Python_ENV\\PYTORCH\\Scripts\\ASTGCN-origin-master\\lib\\site-packages\\statsmodels\\base\\model.py:607: ConvergenceWarning: Maximum Likelihood optimization failed to converge. Check mle_retvals\n",
      "  warnings.warn(\"Maximum Likelihood optimization failed to \"\n",
      "D:\\Python_ENV\\PYTORCH\\Scripts\\ASTGCN-origin-master\\lib\\site-packages\\statsmodels\\base\\model.py:607: ConvergenceWarning: Maximum Likelihood optimization failed to converge. Check mle_retvals\n",
      "  warnings.warn(\"Maximum Likelihood optimization failed to \"\n",
      "D:\\Python_ENV\\PYTORCH\\Scripts\\ASTGCN-origin-master\\lib\\site-packages\\statsmodels\\base\\model.py:607: ConvergenceWarning: Maximum Likelihood optimization failed to converge. Check mle_retvals\n",
      "  warnings.warn(\"Maximum Likelihood optimization failed to \"\n",
      "D:\\Python_ENV\\PYTORCH\\Scripts\\ASTGCN-origin-master\\lib\\site-packages\\statsmodels\\base\\model.py:607: ConvergenceWarning: Maximum Likelihood optimization failed to converge. Check mle_retvals\n",
      "  warnings.warn(\"Maximum Likelihood optimization failed to \"\n",
      "D:\\Python_ENV\\PYTORCH\\Scripts\\ASTGCN-origin-master\\lib\\site-packages\\statsmodels\\base\\model.py:607: ConvergenceWarning: Maximum Likelihood optimization failed to converge. Check mle_retvals\n",
      "  warnings.warn(\"Maximum Likelihood optimization failed to \"\n",
      "D:\\Python_ENV\\PYTORCH\\Scripts\\ASTGCN-origin-master\\lib\\site-packages\\statsmodels\\base\\model.py:607: ConvergenceWarning: Maximum Likelihood optimization failed to converge. Check mle_retvals\n",
      "  warnings.warn(\"Maximum Likelihood optimization failed to \"\n",
      "D:\\Python_ENV\\PYTORCH\\Scripts\\ASTGCN-origin-master\\lib\\site-packages\\statsmodels\\base\\model.py:607: ConvergenceWarning: Maximum Likelihood optimization failed to converge. Check mle_retvals\n",
      "  warnings.warn(\"Maximum Likelihood optimization failed to \"\n",
      "D:\\Python_ENV\\PYTORCH\\Scripts\\ASTGCN-origin-master\\lib\\site-packages\\statsmodels\\base\\model.py:607: ConvergenceWarning: Maximum Likelihood optimization failed to converge. Check mle_retvals\n",
      "  warnings.warn(\"Maximum Likelihood optimization failed to \"\n",
      "D:\\Python_ENV\\PYTORCH\\Scripts\\ASTGCN-origin-master\\lib\\site-packages\\statsmodels\\base\\model.py:607: ConvergenceWarning: Maximum Likelihood optimization failed to converge. Check mle_retvals\n",
      "  warnings.warn(\"Maximum Likelihood optimization failed to \"\n",
      "D:\\Python_ENV\\PYTORCH\\Scripts\\ASTGCN-origin-master\\lib\\site-packages\\statsmodels\\base\\model.py:607: ConvergenceWarning: Maximum Likelihood optimization failed to converge. Check mle_retvals\n",
      "  warnings.warn(\"Maximum Likelihood optimization failed to \"\n",
      "D:\\Python_ENV\\PYTORCH\\Scripts\\ASTGCN-origin-master\\lib\\site-packages\\statsmodels\\base\\model.py:607: ConvergenceWarning: Maximum Likelihood optimization failed to converge. Check mle_retvals\n",
      "  warnings.warn(\"Maximum Likelihood optimization failed to \"\n",
      "D:\\Python_ENV\\PYTORCH\\Scripts\\ASTGCN-origin-master\\lib\\site-packages\\statsmodels\\base\\model.py:607: ConvergenceWarning: Maximum Likelihood optimization failed to converge. Check mle_retvals\n",
      "  warnings.warn(\"Maximum Likelihood optimization failed to \"\n",
      "D:\\Python_ENV\\PYTORCH\\Scripts\\ASTGCN-origin-master\\lib\\site-packages\\statsmodels\\base\\model.py:607: ConvergenceWarning: Maximum Likelihood optimization failed to converge. Check mle_retvals\n",
      "  warnings.warn(\"Maximum Likelihood optimization failed to \"\n",
      "D:\\Python_ENV\\PYTORCH\\Scripts\\ASTGCN-origin-master\\lib\\site-packages\\statsmodels\\base\\model.py:607: ConvergenceWarning: Maximum Likelihood optimization failed to converge. Check mle_retvals\n",
      "  warnings.warn(\"Maximum Likelihood optimization failed to \"\n",
      "D:\\Python_ENV\\PYTORCH\\Scripts\\ASTGCN-origin-master\\lib\\site-packages\\statsmodels\\base\\model.py:607: ConvergenceWarning: Maximum Likelihood optimization failed to converge. Check mle_retvals\n",
      "  warnings.warn(\"Maximum Likelihood optimization failed to \"\n",
      "D:\\Python_ENV\\PYTORCH\\Scripts\\ASTGCN-origin-master\\lib\\site-packages\\statsmodels\\base\\model.py:607: ConvergenceWarning: Maximum Likelihood optimization failed to converge. Check mle_retvals\n",
      "  warnings.warn(\"Maximum Likelihood optimization failed to \"\n",
      "D:\\Python_ENV\\PYTORCH\\Scripts\\ASTGCN-origin-master\\lib\\site-packages\\statsmodels\\base\\model.py:607: ConvergenceWarning: Maximum Likelihood optimization failed to converge. Check mle_retvals\n",
      "  warnings.warn(\"Maximum Likelihood optimization failed to \"\n",
      "D:\\Python_ENV\\PYTORCH\\Scripts\\ASTGCN-origin-master\\lib\\site-packages\\statsmodels\\base\\model.py:607: ConvergenceWarning: Maximum Likelihood optimization failed to converge. Check mle_retvals\n",
      "  warnings.warn(\"Maximum Likelihood optimization failed to \"\n",
      "D:\\Python_ENV\\PYTORCH\\Scripts\\ASTGCN-origin-master\\lib\\site-packages\\statsmodels\\base\\model.py:607: ConvergenceWarning: Maximum Likelihood optimization failed to converge. Check mle_retvals\n",
      "  warnings.warn(\"Maximum Likelihood optimization failed to \"\n",
      "D:\\Python_ENV\\PYTORCH\\Scripts\\ASTGCN-origin-master\\lib\\site-packages\\statsmodels\\base\\model.py:607: ConvergenceWarning: Maximum Likelihood optimization failed to converge. Check mle_retvals\n",
      "  warnings.warn(\"Maximum Likelihood optimization failed to \"\n",
      "D:\\Python_ENV\\PYTORCH\\Scripts\\ASTGCN-origin-master\\lib\\site-packages\\statsmodels\\base\\model.py:607: ConvergenceWarning: Maximum Likelihood optimization failed to converge. Check mle_retvals\n",
      "  warnings.warn(\"Maximum Likelihood optimization failed to \"\n",
      "D:\\Python_ENV\\PYTORCH\\Scripts\\ASTGCN-origin-master\\lib\\site-packages\\statsmodels\\base\\model.py:607: ConvergenceWarning: Maximum Likelihood optimization failed to converge. Check mle_retvals\n",
      "  warnings.warn(\"Maximum Likelihood optimization failed to \"\n",
      "D:\\Python_ENV\\PYTORCH\\Scripts\\ASTGCN-origin-master\\lib\\site-packages\\statsmodels\\base\\model.py:607: ConvergenceWarning: Maximum Likelihood optimization failed to converge. Check mle_retvals\n",
      "  warnings.warn(\"Maximum Likelihood optimization failed to \"\n",
      "D:\\Python_ENV\\PYTORCH\\Scripts\\ASTGCN-origin-master\\lib\\site-packages\\statsmodels\\base\\model.py:607: ConvergenceWarning: Maximum Likelihood optimization failed to converge. Check mle_retvals\n",
      "  warnings.warn(\"Maximum Likelihood optimization failed to \"\n",
      "D:\\Python_ENV\\PYTORCH\\Scripts\\ASTGCN-origin-master\\lib\\site-packages\\statsmodels\\base\\model.py:607: ConvergenceWarning: Maximum Likelihood optimization failed to converge. Check mle_retvals\n",
      "  warnings.warn(\"Maximum Likelihood optimization failed to \"\n",
      "D:\\Python_ENV\\PYTORCH\\Scripts\\ASTGCN-origin-master\\lib\\site-packages\\statsmodels\\base\\model.py:607: ConvergenceWarning: Maximum Likelihood optimization failed to converge. Check mle_retvals\n",
      "  warnings.warn(\"Maximum Likelihood optimization failed to \"\n",
      "D:\\Python_ENV\\PYTORCH\\Scripts\\ASTGCN-origin-master\\lib\\site-packages\\statsmodels\\base\\model.py:607: ConvergenceWarning: Maximum Likelihood optimization failed to converge. Check mle_retvals\n",
      "  warnings.warn(\"Maximum Likelihood optimization failed to \"\n",
      "D:\\Python_ENV\\PYTORCH\\Scripts\\ASTGCN-origin-master\\lib\\site-packages\\statsmodels\\base\\model.py:607: ConvergenceWarning: Maximum Likelihood optimization failed to converge. Check mle_retvals\n",
      "  warnings.warn(\"Maximum Likelihood optimization failed to \"\n",
      "D:\\Python_ENV\\PYTORCH\\Scripts\\ASTGCN-origin-master\\lib\\site-packages\\statsmodels\\base\\model.py:607: ConvergenceWarning: Maximum Likelihood optimization failed to converge. Check mle_retvals\n",
      "  warnings.warn(\"Maximum Likelihood optimization failed to \"\n",
      "D:\\Python_ENV\\PYTORCH\\Scripts\\ASTGCN-origin-master\\lib\\site-packages\\statsmodels\\base\\model.py:607: ConvergenceWarning: Maximum Likelihood optimization failed to converge. Check mle_retvals\n",
      "  warnings.warn(\"Maximum Likelihood optimization failed to \"\n",
      "D:\\Python_ENV\\PYTORCH\\Scripts\\ASTGCN-origin-master\\lib\\site-packages\\statsmodels\\base\\model.py:607: ConvergenceWarning: Maximum Likelihood optimization failed to converge. Check mle_retvals\n",
      "  warnings.warn(\"Maximum Likelihood optimization failed to \"\n",
      "D:\\Python_ENV\\PYTORCH\\Scripts\\ASTGCN-origin-master\\lib\\site-packages\\statsmodels\\base\\model.py:607: ConvergenceWarning: Maximum Likelihood optimization failed to converge. Check mle_retvals\n",
      "  warnings.warn(\"Maximum Likelihood optimization failed to \"\n",
      "D:\\Python_ENV\\PYTORCH\\Scripts\\ASTGCN-origin-master\\lib\\site-packages\\statsmodels\\base\\model.py:607: ConvergenceWarning: Maximum Likelihood optimization failed to converge. Check mle_retvals\n",
      "  warnings.warn(\"Maximum Likelihood optimization failed to \"\n",
      "D:\\Python_ENV\\PYTORCH\\Scripts\\ASTGCN-origin-master\\lib\\site-packages\\statsmodels\\base\\model.py:607: ConvergenceWarning: Maximum Likelihood optimization failed to converge. Check mle_retvals\n",
      "  warnings.warn(\"Maximum Likelihood optimization failed to \"\n",
      "D:\\Python_ENV\\PYTORCH\\Scripts\\ASTGCN-origin-master\\lib\\site-packages\\statsmodels\\base\\model.py:607: ConvergenceWarning: Maximum Likelihood optimization failed to converge. Check mle_retvals\n",
      "  warnings.warn(\"Maximum Likelihood optimization failed to \"\n",
      "D:\\Python_ENV\\PYTORCH\\Scripts\\ASTGCN-origin-master\\lib\\site-packages\\statsmodels\\base\\model.py:607: ConvergenceWarning: Maximum Likelihood optimization failed to converge. Check mle_retvals\n",
      "  warnings.warn(\"Maximum Likelihood optimization failed to \"\n"
     ]
    },
    {
     "name": "stdout",
     "output_type": "stream",
     "text": [
      "train AIC (5, 1)\n",
      "train BIC (1, 1)\n"
     ]
    },
    {
     "name": "stderr",
     "output_type": "stream",
     "text": [
      "D:\\Python_ENV\\PYTORCH\\Scripts\\ASTGCN-origin-master\\lib\\site-packages\\statsmodels\\base\\model.py:607: ConvergenceWarning: Maximum Likelihood optimization failed to converge. Check mle_retvals\n",
      "  warnings.warn(\"Maximum Likelihood optimization failed to \"\n"
     ]
    }
   ],
   "source": [
    "# ACF拖尾，PACF结尾 使用AR模型\n",
    "#因为看自相关图和偏自相关图有很大的主观性，因此，可以通过AIC或BIC来确定最合适的阶数\n",
    "trend_evaluate = sm.tsa.arma_order_select_ic(train, ic=['aic', 'bic'], trend='n', max_ar=20, max_ma=5)\n",
    "print('train AIC', trend_evaluate.aic_min_order)\n",
    "print('train BIC', trend_evaluate.bic_min_order)"
   ],
   "metadata": {
    "collapsed": false,
    "pycharm": {
     "name": "#%%\n"
    }
   }
  },
  {
   "cell_type": "code",
   "execution_count": 51,
   "outputs": [
    {
     "data": {
      "text/plain": "<class 'statsmodels.iolib.summary.Summary'>\n\"\"\"\n                               SARIMAX Results                                \n==============================================================================\nDep. Variable:                      y   No. Observations:                   62\nModel:                 ARIMA(1, 0, 1)   Log Likelihood                  19.846\nDate:                Fri, 11 Aug 2023   AIC                            -31.692\nTime:                        10:09:56   BIC                            -23.183\nSample:                             0   HQIC                           -28.351\n                                 - 62                                         \nCovariance Type:                  opg                                         \n==============================================================================\n                 coef    std err          z      P>|z|      [0.025      0.975]\n------------------------------------------------------------------------------\nconst         -0.5730      1.040     -0.551      0.582      -2.612       1.466\nar.L1          0.9943      0.024     40.632      0.000       0.946       1.042\nma.L1         -0.3043      0.125     -2.429      0.015      -0.550      -0.059\nsigma2         0.0290      0.005      6.081      0.000       0.020       0.038\n===================================================================================\nLjung-Box (L1) (Q):                   0.88   Jarque-Bera (JB):                 2.89\nProb(Q):                              0.35   Prob(JB):                         0.24\nHeteroskedasticity (H):               2.35   Skew:                             0.15\nProb(H) (two-sided):                  0.06   Kurtosis:                         4.02\n===================================================================================\n\nWarnings:\n[1] Covariance matrix calculated using the outer product of gradients (complex-step).\n\"\"\"",
      "text/html": "<table class=\"simpletable\">\n<caption>SARIMAX Results</caption>\n<tr>\n  <th>Dep. Variable:</th>           <td>y</td>        <th>  No. Observations:  </th>   <td>62</td>   \n</tr>\n<tr>\n  <th>Model:</th>            <td>ARIMA(1, 0, 1)</td>  <th>  Log Likelihood     </th> <td>19.846</td> \n</tr>\n<tr>\n  <th>Date:</th>            <td>Fri, 11 Aug 2023</td> <th>  AIC                </th> <td>-31.692</td>\n</tr>\n<tr>\n  <th>Time:</th>                <td>10:09:56</td>     <th>  BIC                </th> <td>-23.183</td>\n</tr>\n<tr>\n  <th>Sample:</th>                  <td>0</td>        <th>  HQIC               </th> <td>-28.351</td>\n</tr>\n<tr>\n  <th></th>                       <td> - 62</td>      <th>                     </th>    <td> </td>   \n</tr>\n<tr>\n  <th>Covariance Type:</th>        <td>opg</td>       <th>                     </th>    <td> </td>   \n</tr>\n</table>\n<table class=\"simpletable\">\n<tr>\n     <td></td>       <th>coef</th>     <th>std err</th>      <th>z</th>      <th>P>|z|</th>  <th>[0.025</th>    <th>0.975]</th>  \n</tr>\n<tr>\n  <th>const</th>  <td>   -0.5730</td> <td>    1.040</td> <td>   -0.551</td> <td> 0.582</td> <td>   -2.612</td> <td>    1.466</td>\n</tr>\n<tr>\n  <th>ar.L1</th>  <td>    0.9943</td> <td>    0.024</td> <td>   40.632</td> <td> 0.000</td> <td>    0.946</td> <td>    1.042</td>\n</tr>\n<tr>\n  <th>ma.L1</th>  <td>   -0.3043</td> <td>    0.125</td> <td>   -2.429</td> <td> 0.015</td> <td>   -0.550</td> <td>   -0.059</td>\n</tr>\n<tr>\n  <th>sigma2</th> <td>    0.0290</td> <td>    0.005</td> <td>    6.081</td> <td> 0.000</td> <td>    0.020</td> <td>    0.038</td>\n</tr>\n</table>\n<table class=\"simpletable\">\n<tr>\n  <th>Ljung-Box (L1) (Q):</th>     <td>0.88</td> <th>  Jarque-Bera (JB):  </th> <td>2.89</td>\n</tr>\n<tr>\n  <th>Prob(Q):</th>                <td>0.35</td> <th>  Prob(JB):          </th> <td>0.24</td>\n</tr>\n<tr>\n  <th>Heteroskedasticity (H):</th> <td>2.35</td> <th>  Skew:              </th> <td>0.15</td>\n</tr>\n<tr>\n  <th>Prob(H) (two-sided):</th>    <td>0.06</td> <th>  Kurtosis:          </th> <td>4.02</td>\n</tr>\n</table><br/><br/>Warnings:<br/>[1] Covariance matrix calculated using the outer product of gradients (complex-step).",
      "text/latex": "\\begin{center}\n\\begin{tabular}{lclc}\n\\toprule\n\\textbf{Dep. Variable:}          &        y         & \\textbf{  No. Observations:  } &     62      \\\\\n\\textbf{Model:}                  &  ARIMA(1, 0, 1)  & \\textbf{  Log Likelihood     } &   19.846    \\\\\n\\textbf{Date:}                   & Fri, 11 Aug 2023 & \\textbf{  AIC                } &  -31.692    \\\\\n\\textbf{Time:}                   &     10:09:56     & \\textbf{  BIC                } &  -23.183    \\\\\n\\textbf{Sample:}                 &        0         & \\textbf{  HQIC               } &  -28.351    \\\\\n\\textbf{}                        &       - 62       & \\textbf{                     } &             \\\\\n\\textbf{Covariance Type:}        &       opg        & \\textbf{                     } &             \\\\\n\\bottomrule\n\\end{tabular}\n\\begin{tabular}{lcccccc}\n                & \\textbf{coef} & \\textbf{std err} & \\textbf{z} & \\textbf{P$> |$z$|$} & \\textbf{[0.025} & \\textbf{0.975]}  \\\\\n\\midrule\n\\textbf{const}  &      -0.5730  &        1.040     &    -0.551  &         0.582        &       -2.612    &        1.466     \\\\\n\\textbf{ar.L1}  &       0.9943  &        0.024     &    40.632  &         0.000        &        0.946    &        1.042     \\\\\n\\textbf{ma.L1}  &      -0.3043  &        0.125     &    -2.429  &         0.015        &       -0.550    &       -0.059     \\\\\n\\textbf{sigma2} &       0.0290  &        0.005     &     6.081  &         0.000        &        0.020    &        0.038     \\\\\n\\bottomrule\n\\end{tabular}\n\\begin{tabular}{lclc}\n\\textbf{Ljung-Box (L1) (Q):}     & 0.88 & \\textbf{  Jarque-Bera (JB):  } & 2.89  \\\\\n\\textbf{Prob(Q):}                & 0.35 & \\textbf{  Prob(JB):          } & 0.24  \\\\\n\\textbf{Heteroskedasticity (H):} & 2.35 & \\textbf{  Skew:              } & 0.15  \\\\\n\\textbf{Prob(H) (two-sided):}    & 0.06 & \\textbf{  Kurtosis:          } & 4.02  \\\\\n\\bottomrule\n\\end{tabular}\n%\\caption{SARIMAX Results}\n\\end{center}\n\nWarnings: \\newline\n [1] Covariance matrix calculated using the outer product of gradients (complex-step)."
     },
     "execution_count": 51,
     "metadata": {},
     "output_type": "execute_result"
    }
   ],
   "source": [
    "#构建模型 p=5 ， q=1\n",
    "model = sm.tsa.arima.ARIMA(train, order=(5, 0, 1))\n",
    "arima_res = model.fit()\n",
    "arima_res.summary()"
   ],
   "metadata": {
    "collapsed": false,
    "pycharm": {
     "name": "#%%\n"
    }
   }
  },
  {
   "cell_type": "code",
   "execution_count": 45,
   "outputs": [
    {
     "data": {
      "text/plain": "1"
     },
     "execution_count": 45,
     "metadata": {},
     "output_type": "execute_result"
    }
   ],
   "source": [],
   "metadata": {
    "collapsed": false,
    "pycharm": {
     "name": "#%%\n"
    }
   }
  },
  {
   "cell_type": "code",
   "execution_count": 52,
   "outputs": [],
   "source": [
    "y_rbf = arima_res.predict(1, 62)"
   ],
   "metadata": {
    "collapsed": false,
    "pycharm": {
     "name": "#%%\n"
    }
   }
  },
  {
   "cell_type": "code",
   "execution_count": 22,
   "outputs": [
    {
     "data": {
      "text/plain": "array([-0.60089631, -1.81448344, -1.84971566, -1.8942615 , -1.83193052,\n       -1.82001083, -1.77958432, -1.72321311, -1.7128738 , -1.67727896,\n       -1.62503593, -1.51844316, -1.44046547, -1.37514838, -1.31017056,\n       -1.2590276 , -1.13819551, -1.05724417, -0.9387886 , -0.86837891,\n       -0.8524002 , -0.79810897, -0.7263142 , -0.72598315, -0.58554163,\n       -0.43834611, -0.46920576, -0.41094034, -0.14638021, -0.19976265,\n       -0.2262674 , -0.01966709, -0.26463791, -0.24231778,  0.01620839,\n       -0.07772254,  0.4040629 ,  0.19961183,  0.10851665,  0.33385883,\n        0.20566004,  0.00348782,  0.13225015, -0.01673504,  0.03056955,\n       -0.01436885,  0.10027396,  0.04147866,  0.10911945,  0.1582669 ,\n        0.10973183,  0.23593406,  0.12929756,  0.27424821,  0.48719938,\n        0.29502381,  0.40845231,  0.49719826,  0.61001682,  0.36065397,\n        0.44575668,  0.59710061])"
     },
     "execution_count": 22,
     "metadata": {},
     "output_type": "execute_result"
    }
   ],
   "source": [
    "y_rbf"
   ],
   "metadata": {
    "collapsed": false,
    "pycharm": {
     "name": "#%%\n"
    }
   }
  },
  {
   "cell_type": "code",
   "execution_count": 53,
   "outputs": [],
   "source": [
    "y_rbf_tr = (y_rbf*std)+mean"
   ],
   "metadata": {
    "collapsed": false,
    "pycharm": {
     "name": "#%%\n"
    }
   }
  },
  {
   "cell_type": "code",
   "execution_count": 54,
   "outputs": [
    {
     "data": {
      "text/plain": "array([16.97864053, 17.27887204, 18.05734186, 18.35455343, 18.54527938,\n       19.8973516 , 20.54619003, 24.14713675, 25.56230675, 27.07705182,\n       28.13950568, 28.87126993, 33.33774254, 34.47731173, 38.38179705,\n       38.70424228, 39.23788927, 40.82208999, 41.63685189, 44.39231518,\n       45.27208089, 50.67652203, 50.54905139, 49.79327964, 56.80202189,\n       57.22819424, 57.76566013, 56.9645764 , 55.57175472, 56.03281104,\n       58.86184434, 64.56788378, 71.35557916, 68.1223192 , 65.55542013,\n       63.53345988, 71.34028559, 63.88923955, 62.33915884, 62.05096958,\n       62.99477096, 65.17332255, 63.8316133 , 65.21267783, 65.44336109,\n       66.84085269, 67.8282274 , 67.57783322, 67.77709378, 69.69314636,\n       75.6032165 , 74.25283095, 72.04033101, 73.79600235, 80.94136694,\n       74.7066651 , 73.25448877, 75.39876172, 79.08607246, 78.28410567,\n       76.86562342, 78.55894648])"
     },
     "execution_count": 54,
     "metadata": {},
     "output_type": "execute_result"
    }
   ],
   "source": [
    "y_rbf_tr"
   ],
   "metadata": {
    "collapsed": false,
    "pycharm": {
     "name": "#%%\n"
    }
   }
  },
  {
   "cell_type": "code",
   "execution_count": 50,
   "outputs": [],
   "source": [
    "y_rbf_tr_1 = pd.DataFrame(y_rbf_tr)\n",
    "y_rbf_tr_1.to_csv('./results/ARIMA//pred_1.csv',  header=None, index=False)"
   ],
   "metadata": {
    "collapsed": false,
    "pycharm": {
     "name": "#%%\n"
    }
   }
  },
  {
   "cell_type": "code",
   "execution_count": 63,
   "outputs": [],
   "source": [
    "y_rbf_all = []"
   ],
   "metadata": {
    "collapsed": false,
    "pycharm": {
     "name": "#%%\n"
    }
   }
  },
  {
   "cell_type": "code",
   "execution_count": 54,
   "outputs": [],
   "source": [],
   "metadata": {
    "collapsed": false,
    "pycharm": {
     "name": "#%%\n"
    }
   }
  },
  {
   "cell_type": "code",
   "execution_count": 62,
   "outputs": [
    {
     "name": "stderr",
     "output_type": "stream",
     "text": [
      "D:\\Python_ENV\\PYTORCH\\Scripts\\ASTGCN-origin-master\\lib\\site-packages\\statsmodels\\base\\model.py:607: ConvergenceWarning: Maximum Likelihood optimization failed to converge. Check mle_retvals\n",
      "  warnings.warn(\"Maximum Likelihood optimization failed to \"\n",
      "D:\\Python_ENV\\PYTORCH\\Scripts\\ASTGCN-origin-master\\lib\\site-packages\\statsmodels\\base\\model.py:607: ConvergenceWarning: Maximum Likelihood optimization failed to converge. Check mle_retvals\n",
      "  warnings.warn(\"Maximum Likelihood optimization failed to \"\n",
      "D:\\Python_ENV\\PYTORCH\\Scripts\\ASTGCN-origin-master\\lib\\site-packages\\statsmodels\\base\\model.py:607: ConvergenceWarning: Maximum Likelihood optimization failed to converge. Check mle_retvals\n",
      "  warnings.warn(\"Maximum Likelihood optimization failed to \"\n",
      "D:\\Python_ENV\\PYTORCH\\Scripts\\ASTGCN-origin-master\\lib\\site-packages\\statsmodels\\base\\model.py:607: ConvergenceWarning: Maximum Likelihood optimization failed to converge. Check mle_retvals\n",
      "  warnings.warn(\"Maximum Likelihood optimization failed to \"\n",
      "D:\\Python_ENV\\PYTORCH\\Scripts\\ASTGCN-origin-master\\lib\\site-packages\\statsmodels\\base\\model.py:607: ConvergenceWarning: Maximum Likelihood optimization failed to converge. Check mle_retvals\n",
      "  warnings.warn(\"Maximum Likelihood optimization failed to \"\n",
      "D:\\Python_ENV\\PYTORCH\\Scripts\\ASTGCN-origin-master\\lib\\site-packages\\statsmodels\\base\\model.py:607: ConvergenceWarning: Maximum Likelihood optimization failed to converge. Check mle_retvals\n",
      "  warnings.warn(\"Maximum Likelihood optimization failed to \"\n",
      "D:\\Python_ENV\\PYTORCH\\Scripts\\ASTGCN-origin-master\\lib\\site-packages\\statsmodels\\base\\model.py:607: ConvergenceWarning: Maximum Likelihood optimization failed to converge. Check mle_retvals\n",
      "  warnings.warn(\"Maximum Likelihood optimization failed to \"\n",
      "D:\\Python_ENV\\PYTORCH\\Scripts\\ASTGCN-origin-master\\lib\\site-packages\\statsmodels\\base\\model.py:607: ConvergenceWarning: Maximum Likelihood optimization failed to converge. Check mle_retvals\n",
      "  warnings.warn(\"Maximum Likelihood optimization failed to \"\n",
      "D:\\Python_ENV\\PYTORCH\\Scripts\\ASTGCN-origin-master\\lib\\site-packages\\statsmodels\\tsa\\statespace\\sarimax.py:966: UserWarning: Non-stationary starting autoregressive parameters found. Using zeros as starting parameters.\n",
      "  warn('Non-stationary starting autoregressive parameters'\n",
      "D:\\Python_ENV\\PYTORCH\\Scripts\\ASTGCN-origin-master\\lib\\site-packages\\statsmodels\\tsa\\statespace\\sarimax.py:978: UserWarning: Non-invertible starting MA parameters found. Using zeros as starting parameters.\n",
      "  warn('Non-invertible starting MA parameters found.'\n",
      "D:\\Python_ENV\\PYTORCH\\Scripts\\ASTGCN-origin-master\\lib\\site-packages\\statsmodels\\base\\model.py:607: ConvergenceWarning: Maximum Likelihood optimization failed to converge. Check mle_retvals\n",
      "  warnings.warn(\"Maximum Likelihood optimization failed to \"\n",
      "D:\\Python_ENV\\PYTORCH\\Scripts\\ASTGCN-origin-master\\lib\\site-packages\\statsmodels\\base\\model.py:607: ConvergenceWarning: Maximum Likelihood optimization failed to converge. Check mle_retvals\n",
      "  warnings.warn(\"Maximum Likelihood optimization failed to \"\n",
      "D:\\Python_ENV\\PYTORCH\\Scripts\\ASTGCN-origin-master\\lib\\site-packages\\statsmodels\\base\\model.py:607: ConvergenceWarning: Maximum Likelihood optimization failed to converge. Check mle_retvals\n",
      "  warnings.warn(\"Maximum Likelihood optimization failed to \"\n",
      "D:\\Python_ENV\\PYTORCH\\Scripts\\ASTGCN-origin-master\\lib\\site-packages\\statsmodels\\base\\model.py:607: ConvergenceWarning: Maximum Likelihood optimization failed to converge. Check mle_retvals\n",
      "  warnings.warn(\"Maximum Likelihood optimization failed to \"\n",
      "D:\\Python_ENV\\PYTORCH\\Scripts\\ASTGCN-origin-master\\lib\\site-packages\\statsmodels\\base\\model.py:607: ConvergenceWarning: Maximum Likelihood optimization failed to converge. Check mle_retvals\n",
      "  warnings.warn(\"Maximum Likelihood optimization failed to \"\n",
      "D:\\Python_ENV\\PYTORCH\\Scripts\\ASTGCN-origin-master\\lib\\site-packages\\statsmodels\\base\\model.py:607: ConvergenceWarning: Maximum Likelihood optimization failed to converge. Check mle_retvals\n",
      "  warnings.warn(\"Maximum Likelihood optimization failed to \"\n",
      "D:\\Python_ENV\\PYTORCH\\Scripts\\ASTGCN-origin-master\\lib\\site-packages\\statsmodels\\base\\model.py:607: ConvergenceWarning: Maximum Likelihood optimization failed to converge. Check mle_retvals\n",
      "  warnings.warn(\"Maximum Likelihood optimization failed to \"\n",
      "D:\\Python_ENV\\PYTORCH\\Scripts\\ASTGCN-origin-master\\lib\\site-packages\\statsmodels\\base\\model.py:607: ConvergenceWarning: Maximum Likelihood optimization failed to converge. Check mle_retvals\n",
      "  warnings.warn(\"Maximum Likelihood optimization failed to \"\n",
      "D:\\Python_ENV\\PYTORCH\\Scripts\\ASTGCN-origin-master\\lib\\site-packages\\statsmodels\\base\\model.py:607: ConvergenceWarning: Maximum Likelihood optimization failed to converge. Check mle_retvals\n",
      "  warnings.warn(\"Maximum Likelihood optimization failed to \"\n",
      "D:\\Python_ENV\\PYTORCH\\Scripts\\ASTGCN-origin-master\\lib\\site-packages\\statsmodels\\base\\model.py:607: ConvergenceWarning: Maximum Likelihood optimization failed to converge. Check mle_retvals\n",
      "  warnings.warn(\"Maximum Likelihood optimization failed to \"\n",
      "D:\\Python_ENV\\PYTORCH\\Scripts\\ASTGCN-origin-master\\lib\\site-packages\\statsmodels\\base\\model.py:607: ConvergenceWarning: Maximum Likelihood optimization failed to converge. Check mle_retvals\n",
      "  warnings.warn(\"Maximum Likelihood optimization failed to \"\n",
      "D:\\Python_ENV\\PYTORCH\\Scripts\\ASTGCN-origin-master\\lib\\site-packages\\statsmodels\\base\\model.py:607: ConvergenceWarning: Maximum Likelihood optimization failed to converge. Check mle_retvals\n",
      "  warnings.warn(\"Maximum Likelihood optimization failed to \"\n",
      "D:\\Python_ENV\\PYTORCH\\Scripts\\ASTGCN-origin-master\\lib\\site-packages\\statsmodels\\base\\model.py:607: ConvergenceWarning: Maximum Likelihood optimization failed to converge. Check mle_retvals\n",
      "  warnings.warn(\"Maximum Likelihood optimization failed to \"\n",
      "D:\\Python_ENV\\PYTORCH\\Scripts\\ASTGCN-origin-master\\lib\\site-packages\\statsmodels\\base\\model.py:607: ConvergenceWarning: Maximum Likelihood optimization failed to converge. Check mle_retvals\n",
      "  warnings.warn(\"Maximum Likelihood optimization failed to \"\n",
      "D:\\Python_ENV\\PYTORCH\\Scripts\\ASTGCN-origin-master\\lib\\site-packages\\statsmodels\\base\\model.py:607: ConvergenceWarning: Maximum Likelihood optimization failed to converge. Check mle_retvals\n",
      "  warnings.warn(\"Maximum Likelihood optimization failed to \"\n",
      "D:\\Python_ENV\\PYTORCH\\Scripts\\ASTGCN-origin-master\\lib\\site-packages\\statsmodels\\base\\model.py:607: ConvergenceWarning: Maximum Likelihood optimization failed to converge. Check mle_retvals\n",
      "  warnings.warn(\"Maximum Likelihood optimization failed to \"\n",
      "D:\\Python_ENV\\PYTORCH\\Scripts\\ASTGCN-origin-master\\lib\\site-packages\\statsmodels\\base\\model.py:607: ConvergenceWarning: Maximum Likelihood optimization failed to converge. Check mle_retvals\n",
      "  warnings.warn(\"Maximum Likelihood optimization failed to \"\n",
      "D:\\Python_ENV\\PYTORCH\\Scripts\\ASTGCN-origin-master\\lib\\site-packages\\statsmodels\\base\\model.py:607: ConvergenceWarning: Maximum Likelihood optimization failed to converge. Check mle_retvals\n",
      "  warnings.warn(\"Maximum Likelihood optimization failed to \"\n",
      "D:\\Python_ENV\\PYTORCH\\Scripts\\ASTGCN-origin-master\\lib\\site-packages\\statsmodels\\base\\model.py:607: ConvergenceWarning: Maximum Likelihood optimization failed to converge. Check mle_retvals\n",
      "  warnings.warn(\"Maximum Likelihood optimization failed to \"\n",
      "D:\\Python_ENV\\PYTORCH\\Scripts\\ASTGCN-origin-master\\lib\\site-packages\\statsmodels\\base\\model.py:607: ConvergenceWarning: Maximum Likelihood optimization failed to converge. Check mle_retvals\n",
      "  warnings.warn(\"Maximum Likelihood optimization failed to \"\n",
      "D:\\Python_ENV\\PYTORCH\\Scripts\\ASTGCN-origin-master\\lib\\site-packages\\statsmodels\\base\\model.py:607: ConvergenceWarning: Maximum Likelihood optimization failed to converge. Check mle_retvals\n",
      "  warnings.warn(\"Maximum Likelihood optimization failed to \"\n",
      "D:\\Python_ENV\\PYTORCH\\Scripts\\ASTGCN-origin-master\\lib\\site-packages\\statsmodels\\base\\model.py:607: ConvergenceWarning: Maximum Likelihood optimization failed to converge. Check mle_retvals\n",
      "  warnings.warn(\"Maximum Likelihood optimization failed to \"\n",
      "D:\\Python_ENV\\PYTORCH\\Scripts\\ASTGCN-origin-master\\lib\\site-packages\\statsmodels\\base\\model.py:607: ConvergenceWarning: Maximum Likelihood optimization failed to converge. Check mle_retvals\n",
      "  warnings.warn(\"Maximum Likelihood optimization failed to \"\n",
      "D:\\Python_ENV\\PYTORCH\\Scripts\\ASTGCN-origin-master\\lib\\site-packages\\statsmodels\\base\\model.py:607: ConvergenceWarning: Maximum Likelihood optimization failed to converge. Check mle_retvals\n",
      "  warnings.warn(\"Maximum Likelihood optimization failed to \"\n",
      "D:\\Python_ENV\\PYTORCH\\Scripts\\ASTGCN-origin-master\\lib\\site-packages\\statsmodels\\base\\model.py:607: ConvergenceWarning: Maximum Likelihood optimization failed to converge. Check mle_retvals\n",
      "  warnings.warn(\"Maximum Likelihood optimization failed to \"\n",
      "D:\\Python_ENV\\PYTORCH\\Scripts\\ASTGCN-origin-master\\lib\\site-packages\\statsmodels\\base\\model.py:607: ConvergenceWarning: Maximum Likelihood optimization failed to converge. Check mle_retvals\n",
      "  warnings.warn(\"Maximum Likelihood optimization failed to \"\n",
      "D:\\Python_ENV\\PYTORCH\\Scripts\\ASTGCN-origin-master\\lib\\site-packages\\statsmodels\\base\\model.py:607: ConvergenceWarning: Maximum Likelihood optimization failed to converge. Check mle_retvals\n",
      "  warnings.warn(\"Maximum Likelihood optimization failed to \"\n",
      "D:\\Python_ENV\\PYTORCH\\Scripts\\ASTGCN-origin-master\\lib\\site-packages\\statsmodels\\base\\model.py:607: ConvergenceWarning: Maximum Likelihood optimization failed to converge. Check mle_retvals\n",
      "  warnings.warn(\"Maximum Likelihood optimization failed to \"\n",
      "D:\\Python_ENV\\PYTORCH\\Scripts\\ASTGCN-origin-master\\lib\\site-packages\\statsmodels\\base\\model.py:607: ConvergenceWarning: Maximum Likelihood optimization failed to converge. Check mle_retvals\n",
      "  warnings.warn(\"Maximum Likelihood optimization failed to \"\n",
      "D:\\Python_ENV\\PYTORCH\\Scripts\\ASTGCN-origin-master\\lib\\site-packages\\statsmodels\\base\\model.py:607: ConvergenceWarning: Maximum Likelihood optimization failed to converge. Check mle_retvals\n",
      "  warnings.warn(\"Maximum Likelihood optimization failed to \"\n",
      "D:\\Python_ENV\\PYTORCH\\Scripts\\ASTGCN-origin-master\\lib\\site-packages\\statsmodels\\base\\model.py:607: ConvergenceWarning: Maximum Likelihood optimization failed to converge. Check mle_retvals\n",
      "  warnings.warn(\"Maximum Likelihood optimization failed to \"\n",
      "D:\\Python_ENV\\PYTORCH\\Scripts\\ASTGCN-origin-master\\lib\\site-packages\\statsmodels\\base\\model.py:607: ConvergenceWarning: Maximum Likelihood optimization failed to converge. Check mle_retvals\n",
      "  warnings.warn(\"Maximum Likelihood optimization failed to \"\n",
      "D:\\Python_ENV\\PYTORCH\\Scripts\\ASTGCN-origin-master\\lib\\site-packages\\statsmodels\\base\\model.py:607: ConvergenceWarning: Maximum Likelihood optimization failed to converge. Check mle_retvals\n",
      "  warnings.warn(\"Maximum Likelihood optimization failed to \"\n",
      "D:\\Python_ENV\\PYTORCH\\Scripts\\ASTGCN-origin-master\\lib\\site-packages\\statsmodels\\base\\model.py:607: ConvergenceWarning: Maximum Likelihood optimization failed to converge. Check mle_retvals\n",
      "  warnings.warn(\"Maximum Likelihood optimization failed to \"\n",
      "D:\\Python_ENV\\PYTORCH\\Scripts\\ASTGCN-origin-master\\lib\\site-packages\\statsmodels\\base\\model.py:607: ConvergenceWarning: Maximum Likelihood optimization failed to converge. Check mle_retvals\n",
      "  warnings.warn(\"Maximum Likelihood optimization failed to \"\n",
      "D:\\Python_ENV\\PYTORCH\\Scripts\\ASTGCN-origin-master\\lib\\site-packages\\statsmodels\\base\\model.py:607: ConvergenceWarning: Maximum Likelihood optimization failed to converge. Check mle_retvals\n",
      "  warnings.warn(\"Maximum Likelihood optimization failed to \"\n",
      "D:\\Python_ENV\\PYTORCH\\Scripts\\ASTGCN-origin-master\\lib\\site-packages\\statsmodels\\base\\model.py:607: ConvergenceWarning: Maximum Likelihood optimization failed to converge. Check mle_retvals\n",
      "  warnings.warn(\"Maximum Likelihood optimization failed to \"\n",
      "D:\\Python_ENV\\PYTORCH\\Scripts\\ASTGCN-origin-master\\lib\\site-packages\\statsmodels\\base\\model.py:607: ConvergenceWarning: Maximum Likelihood optimization failed to converge. Check mle_retvals\n",
      "  warnings.warn(\"Maximum Likelihood optimization failed to \"\n",
      "D:\\Python_ENV\\PYTORCH\\Scripts\\ASTGCN-origin-master\\lib\\site-packages\\statsmodels\\base\\model.py:607: ConvergenceWarning: Maximum Likelihood optimization failed to converge. Check mle_retvals\n",
      "  warnings.warn(\"Maximum Likelihood optimization failed to \"\n",
      "D:\\Python_ENV\\PYTORCH\\Scripts\\ASTGCN-origin-master\\lib\\site-packages\\statsmodels\\base\\model.py:607: ConvergenceWarning: Maximum Likelihood optimization failed to converge. Check mle_retvals\n",
      "  warnings.warn(\"Maximum Likelihood optimization failed to \"\n",
      "D:\\Python_ENV\\PYTORCH\\Scripts\\ASTGCN-origin-master\\lib\\site-packages\\statsmodels\\base\\model.py:607: ConvergenceWarning: Maximum Likelihood optimization failed to converge. Check mle_retvals\n",
      "  warnings.warn(\"Maximum Likelihood optimization failed to \"\n",
      "D:\\Python_ENV\\PYTORCH\\Scripts\\ASTGCN-origin-master\\lib\\site-packages\\statsmodels\\base\\model.py:607: ConvergenceWarning: Maximum Likelihood optimization failed to converge. Check mle_retvals\n",
      "  warnings.warn(\"Maximum Likelihood optimization failed to \"\n",
      "D:\\Python_ENV\\PYTORCH\\Scripts\\ASTGCN-origin-master\\lib\\site-packages\\statsmodels\\base\\model.py:607: ConvergenceWarning: Maximum Likelihood optimization failed to converge. Check mle_retvals\n",
      "  warnings.warn(\"Maximum Likelihood optimization failed to \"\n",
      "D:\\Python_ENV\\PYTORCH\\Scripts\\ASTGCN-origin-master\\lib\\site-packages\\statsmodels\\base\\model.py:607: ConvergenceWarning: Maximum Likelihood optimization failed to converge. Check mle_retvals\n",
      "  warnings.warn(\"Maximum Likelihood optimization failed to \"\n",
      "D:\\Python_ENV\\PYTORCH\\Scripts\\ASTGCN-origin-master\\lib\\site-packages\\statsmodels\\base\\model.py:607: ConvergenceWarning: Maximum Likelihood optimization failed to converge. Check mle_retvals\n",
      "  warnings.warn(\"Maximum Likelihood optimization failed to \"\n",
      "D:\\Python_ENV\\PYTORCH\\Scripts\\ASTGCN-origin-master\\lib\\site-packages\\statsmodels\\base\\model.py:607: ConvergenceWarning: Maximum Likelihood optimization failed to converge. Check mle_retvals\n",
      "  warnings.warn(\"Maximum Likelihood optimization failed to \"\n",
      "D:\\Python_ENV\\PYTORCH\\Scripts\\ASTGCN-origin-master\\lib\\site-packages\\statsmodels\\base\\model.py:607: ConvergenceWarning: Maximum Likelihood optimization failed to converge. Check mle_retvals\n",
      "  warnings.warn(\"Maximum Likelihood optimization failed to \"\n",
      "D:\\Python_ENV\\PYTORCH\\Scripts\\ASTGCN-origin-master\\lib\\site-packages\\statsmodels\\base\\model.py:607: ConvergenceWarning: Maximum Likelihood optimization failed to converge. Check mle_retvals\n",
      "  warnings.warn(\"Maximum Likelihood optimization failed to \"\n",
      "D:\\Python_ENV\\PYTORCH\\Scripts\\ASTGCN-origin-master\\lib\\site-packages\\statsmodels\\base\\model.py:607: ConvergenceWarning: Maximum Likelihood optimization failed to converge. Check mle_retvals\n",
      "  warnings.warn(\"Maximum Likelihood optimization failed to \"\n",
      "D:\\Python_ENV\\PYTORCH\\Scripts\\ASTGCN-origin-master\\lib\\site-packages\\statsmodels\\base\\model.py:607: ConvergenceWarning: Maximum Likelihood optimization failed to converge. Check mle_retvals\n",
      "  warnings.warn(\"Maximum Likelihood optimization failed to \"\n",
      "D:\\Python_ENV\\PYTORCH\\Scripts\\ASTGCN-origin-master\\lib\\site-packages\\statsmodels\\base\\model.py:607: ConvergenceWarning: Maximum Likelihood optimization failed to converge. Check mle_retvals\n",
      "  warnings.warn(\"Maximum Likelihood optimization failed to \"\n",
      "D:\\Python_ENV\\PYTORCH\\Scripts\\ASTGCN-origin-master\\lib\\site-packages\\statsmodels\\base\\model.py:607: ConvergenceWarning: Maximum Likelihood optimization failed to converge. Check mle_retvals\n",
      "  warnings.warn(\"Maximum Likelihood optimization failed to \"\n",
      "D:\\Python_ENV\\PYTORCH\\Scripts\\ASTGCN-origin-master\\lib\\site-packages\\statsmodels\\base\\model.py:607: ConvergenceWarning: Maximum Likelihood optimization failed to converge. Check mle_retvals\n",
      "  warnings.warn(\"Maximum Likelihood optimization failed to \"\n",
      "D:\\Python_ENV\\PYTORCH\\Scripts\\ASTGCN-origin-master\\lib\\site-packages\\statsmodels\\base\\model.py:607: ConvergenceWarning: Maximum Likelihood optimization failed to converge. Check mle_retvals\n",
      "  warnings.warn(\"Maximum Likelihood optimization failed to \"\n",
      "D:\\Python_ENV\\PYTORCH\\Scripts\\ASTGCN-origin-master\\lib\\site-packages\\statsmodels\\base\\model.py:607: ConvergenceWarning: Maximum Likelihood optimization failed to converge. Check mle_retvals\n",
      "  warnings.warn(\"Maximum Likelihood optimization failed to \"\n",
      "D:\\Python_ENV\\PYTORCH\\Scripts\\ASTGCN-origin-master\\lib\\site-packages\\statsmodels\\base\\model.py:607: ConvergenceWarning: Maximum Likelihood optimization failed to converge. Check mle_retvals\n",
      "  warnings.warn(\"Maximum Likelihood optimization failed to \"\n",
      "D:\\Python_ENV\\PYTORCH\\Scripts\\ASTGCN-origin-master\\lib\\site-packages\\statsmodels\\base\\model.py:607: ConvergenceWarning: Maximum Likelihood optimization failed to converge. Check mle_retvals\n",
      "  warnings.warn(\"Maximum Likelihood optimization failed to \"\n",
      "D:\\Python_ENV\\PYTORCH\\Scripts\\ASTGCN-origin-master\\lib\\site-packages\\statsmodels\\base\\model.py:607: ConvergenceWarning: Maximum Likelihood optimization failed to converge. Check mle_retvals\n",
      "  warnings.warn(\"Maximum Likelihood optimization failed to \"\n",
      "D:\\Python_ENV\\PYTORCH\\Scripts\\ASTGCN-origin-master\\lib\\site-packages\\statsmodels\\base\\model.py:607: ConvergenceWarning: Maximum Likelihood optimization failed to converge. Check mle_retvals\n",
      "  warnings.warn(\"Maximum Likelihood optimization failed to \"\n",
      "D:\\Python_ENV\\PYTORCH\\Scripts\\ASTGCN-origin-master\\lib\\site-packages\\statsmodels\\base\\model.py:607: ConvergenceWarning: Maximum Likelihood optimization failed to converge. Check mle_retvals\n",
      "  warnings.warn(\"Maximum Likelihood optimization failed to \"\n",
      "D:\\Python_ENV\\PYTORCH\\Scripts\\ASTGCN-origin-master\\lib\\site-packages\\statsmodels\\base\\model.py:607: ConvergenceWarning: Maximum Likelihood optimization failed to converge. Check mle_retvals\n",
      "  warnings.warn(\"Maximum Likelihood optimization failed to \"\n",
      "D:\\Python_ENV\\PYTORCH\\Scripts\\ASTGCN-origin-master\\lib\\site-packages\\statsmodels\\base\\model.py:607: ConvergenceWarning: Maximum Likelihood optimization failed to converge. Check mle_retvals\n",
      "  warnings.warn(\"Maximum Likelihood optimization failed to \"\n",
      "D:\\Python_ENV\\PYTORCH\\Scripts\\ASTGCN-origin-master\\lib\\site-packages\\statsmodels\\base\\model.py:607: ConvergenceWarning: Maximum Likelihood optimization failed to converge. Check mle_retvals\n",
      "  warnings.warn(\"Maximum Likelihood optimization failed to \"\n",
      "D:\\Python_ENV\\PYTORCH\\Scripts\\ASTGCN-origin-master\\lib\\site-packages\\statsmodels\\base\\model.py:607: ConvergenceWarning: Maximum Likelihood optimization failed to converge. Check mle_retvals\n",
      "  warnings.warn(\"Maximum Likelihood optimization failed to \"\n",
      "D:\\Python_ENV\\PYTORCH\\Scripts\\ASTGCN-origin-master\\lib\\site-packages\\statsmodels\\base\\model.py:607: ConvergenceWarning: Maximum Likelihood optimization failed to converge. Check mle_retvals\n",
      "  warnings.warn(\"Maximum Likelihood optimization failed to \"\n",
      "D:\\Python_ENV\\PYTORCH\\Scripts\\ASTGCN-origin-master\\lib\\site-packages\\statsmodels\\base\\model.py:607: ConvergenceWarning: Maximum Likelihood optimization failed to converge. Check mle_retvals\n",
      "  warnings.warn(\"Maximum Likelihood optimization failed to \"\n",
      "D:\\Python_ENV\\PYTORCH\\Scripts\\ASTGCN-origin-master\\lib\\site-packages\\statsmodels\\base\\model.py:607: ConvergenceWarning: Maximum Likelihood optimization failed to converge. Check mle_retvals\n",
      "  warnings.warn(\"Maximum Likelihood optimization failed to \"\n",
      "D:\\Python_ENV\\PYTORCH\\Scripts\\ASTGCN-origin-master\\lib\\site-packages\\statsmodels\\base\\model.py:607: ConvergenceWarning: Maximum Likelihood optimization failed to converge. Check mle_retvals\n",
      "  warnings.warn(\"Maximum Likelihood optimization failed to \"\n",
      "D:\\Python_ENV\\PYTORCH\\Scripts\\ASTGCN-origin-master\\lib\\site-packages\\statsmodels\\base\\model.py:607: ConvergenceWarning: Maximum Likelihood optimization failed to converge. Check mle_retvals\n",
      "  warnings.warn(\"Maximum Likelihood optimization failed to \"\n",
      "D:\\Python_ENV\\PYTORCH\\Scripts\\ASTGCN-origin-master\\lib\\site-packages\\statsmodels\\base\\model.py:607: ConvergenceWarning: Maximum Likelihood optimization failed to converge. Check mle_retvals\n",
      "  warnings.warn(\"Maximum Likelihood optimization failed to \"\n",
      "D:\\Python_ENV\\PYTORCH\\Scripts\\ASTGCN-origin-master\\lib\\site-packages\\statsmodels\\base\\model.py:607: ConvergenceWarning: Maximum Likelihood optimization failed to converge. Check mle_retvals\n",
      "  warnings.warn(\"Maximum Likelihood optimization failed to \"\n",
      "D:\\Python_ENV\\PYTORCH\\Scripts\\ASTGCN-origin-master\\lib\\site-packages\\statsmodels\\base\\model.py:607: ConvergenceWarning: Maximum Likelihood optimization failed to converge. Check mle_retvals\n",
      "  warnings.warn(\"Maximum Likelihood optimization failed to \"\n",
      "D:\\Python_ENV\\PYTORCH\\Scripts\\ASTGCN-origin-master\\lib\\site-packages\\statsmodels\\base\\model.py:607: ConvergenceWarning: Maximum Likelihood optimization failed to converge. Check mle_retvals\n",
      "  warnings.warn(\"Maximum Likelihood optimization failed to \"\n",
      "D:\\Python_ENV\\PYTORCH\\Scripts\\ASTGCN-origin-master\\lib\\site-packages\\statsmodels\\base\\model.py:607: ConvergenceWarning: Maximum Likelihood optimization failed to converge. Check mle_retvals\n",
      "  warnings.warn(\"Maximum Likelihood optimization failed to \"\n",
      "D:\\Python_ENV\\PYTORCH\\Scripts\\ASTGCN-origin-master\\lib\\site-packages\\statsmodels\\base\\model.py:607: ConvergenceWarning: Maximum Likelihood optimization failed to converge. Check mle_retvals\n",
      "  warnings.warn(\"Maximum Likelihood optimization failed to \"\n",
      "D:\\Python_ENV\\PYTORCH\\Scripts\\ASTGCN-origin-master\\lib\\site-packages\\statsmodels\\base\\model.py:607: ConvergenceWarning: Maximum Likelihood optimization failed to converge. Check mle_retvals\n",
      "  warnings.warn(\"Maximum Likelihood optimization failed to \"\n",
      "D:\\Python_ENV\\PYTORCH\\Scripts\\ASTGCN-origin-master\\lib\\site-packages\\statsmodels\\base\\model.py:607: ConvergenceWarning: Maximum Likelihood optimization failed to converge. Check mle_retvals\n",
      "  warnings.warn(\"Maximum Likelihood optimization failed to \"\n",
      "D:\\Python_ENV\\PYTORCH\\Scripts\\ASTGCN-origin-master\\lib\\site-packages\\statsmodels\\base\\model.py:607: ConvergenceWarning: Maximum Likelihood optimization failed to converge. Check mle_retvals\n",
      "  warnings.warn(\"Maximum Likelihood optimization failed to \"\n",
      "D:\\Python_ENV\\PYTORCH\\Scripts\\ASTGCN-origin-master\\lib\\site-packages\\statsmodels\\base\\model.py:607: ConvergenceWarning: Maximum Likelihood optimization failed to converge. Check mle_retvals\n",
      "  warnings.warn(\"Maximum Likelihood optimization failed to \"\n",
      "D:\\Python_ENV\\PYTORCH\\Scripts\\ASTGCN-origin-master\\lib\\site-packages\\statsmodels\\base\\model.py:607: ConvergenceWarning: Maximum Likelihood optimization failed to converge. Check mle_retvals\n",
      "  warnings.warn(\"Maximum Likelihood optimization failed to \"\n",
      "D:\\Python_ENV\\PYTORCH\\Scripts\\ASTGCN-origin-master\\lib\\site-packages\\statsmodels\\base\\model.py:607: ConvergenceWarning: Maximum Likelihood optimization failed to converge. Check mle_retvals\n",
      "  warnings.warn(\"Maximum Likelihood optimization failed to \"\n",
      "D:\\Python_ENV\\PYTORCH\\Scripts\\ASTGCN-origin-master\\lib\\site-packages\\statsmodels\\base\\model.py:607: ConvergenceWarning: Maximum Likelihood optimization failed to converge. Check mle_retvals\n",
      "  warnings.warn(\"Maximum Likelihood optimization failed to \"\n",
      "D:\\Python_ENV\\PYTORCH\\Scripts\\ASTGCN-origin-master\\lib\\site-packages\\statsmodels\\base\\model.py:607: ConvergenceWarning: Maximum Likelihood optimization failed to converge. Check mle_retvals\n",
      "  warnings.warn(\"Maximum Likelihood optimization failed to \"\n",
      "D:\\Python_ENV\\PYTORCH\\Scripts\\ASTGCN-origin-master\\lib\\site-packages\\statsmodels\\base\\model.py:607: ConvergenceWarning: Maximum Likelihood optimization failed to converge. Check mle_retvals\n",
      "  warnings.warn(\"Maximum Likelihood optimization failed to \"\n",
      "D:\\Python_ENV\\PYTORCH\\Scripts\\ASTGCN-origin-master\\lib\\site-packages\\statsmodels\\base\\model.py:607: ConvergenceWarning: Maximum Likelihood optimization failed to converge. Check mle_retvals\n",
      "  warnings.warn(\"Maximum Likelihood optimization failed to \"\n",
      "D:\\Python_ENV\\PYTORCH\\Scripts\\ASTGCN-origin-master\\lib\\site-packages\\statsmodels\\base\\model.py:607: ConvergenceWarning: Maximum Likelihood optimization failed to converge. Check mle_retvals\n",
      "  warnings.warn(\"Maximum Likelihood optimization failed to \"\n",
      "D:\\Python_ENV\\PYTORCH\\Scripts\\ASTGCN-origin-master\\lib\\site-packages\\statsmodels\\base\\model.py:607: ConvergenceWarning: Maximum Likelihood optimization failed to converge. Check mle_retvals\n",
      "  warnings.warn(\"Maximum Likelihood optimization failed to \"\n",
      "D:\\Python_ENV\\PYTORCH\\Scripts\\ASTGCN-origin-master\\lib\\site-packages\\statsmodels\\base\\model.py:607: ConvergenceWarning: Maximum Likelihood optimization failed to converge. Check mle_retvals\n",
      "  warnings.warn(\"Maximum Likelihood optimization failed to \"\n",
      "D:\\Python_ENV\\PYTORCH\\Scripts\\ASTGCN-origin-master\\lib\\site-packages\\statsmodels\\base\\model.py:607: ConvergenceWarning: Maximum Likelihood optimization failed to converge. Check mle_retvals\n",
      "  warnings.warn(\"Maximum Likelihood optimization failed to \"\n",
      "D:\\Python_ENV\\PYTORCH\\Scripts\\ASTGCN-origin-master\\lib\\site-packages\\statsmodels\\base\\model.py:607: ConvergenceWarning: Maximum Likelihood optimization failed to converge. Check mle_retvals\n",
      "  warnings.warn(\"Maximum Likelihood optimization failed to \"\n",
      "D:\\Python_ENV\\PYTORCH\\Scripts\\ASTGCN-origin-master\\lib\\site-packages\\statsmodels\\base\\model.py:607: ConvergenceWarning: Maximum Likelihood optimization failed to converge. Check mle_retvals\n",
      "  warnings.warn(\"Maximum Likelihood optimization failed to \"\n",
      "D:\\Python_ENV\\PYTORCH\\Scripts\\ASTGCN-origin-master\\lib\\site-packages\\statsmodels\\base\\model.py:607: ConvergenceWarning: Maximum Likelihood optimization failed to converge. Check mle_retvals\n",
      "  warnings.warn(\"Maximum Likelihood optimization failed to \"\n",
      "D:\\Python_ENV\\PYTORCH\\Scripts\\ASTGCN-origin-master\\lib\\site-packages\\statsmodels\\base\\model.py:607: ConvergenceWarning: Maximum Likelihood optimization failed to converge. Check mle_retvals\n",
      "  warnings.warn(\"Maximum Likelihood optimization failed to \"\n",
      "D:\\Python_ENV\\PYTORCH\\Scripts\\ASTGCN-origin-master\\lib\\site-packages\\statsmodels\\base\\model.py:607: ConvergenceWarning: Maximum Likelihood optimization failed to converge. Check mle_retvals\n",
      "  warnings.warn(\"Maximum Likelihood optimization failed to \"\n",
      "D:\\Python_ENV\\PYTORCH\\Scripts\\ASTGCN-origin-master\\lib\\site-packages\\statsmodels\\base\\model.py:607: ConvergenceWarning: Maximum Likelihood optimization failed to converge. Check mle_retvals\n",
      "  warnings.warn(\"Maximum Likelihood optimization failed to \"\n",
      "D:\\Python_ENV\\PYTORCH\\Scripts\\ASTGCN-origin-master\\lib\\site-packages\\statsmodels\\base\\model.py:607: ConvergenceWarning: Maximum Likelihood optimization failed to converge. Check mle_retvals\n",
      "  warnings.warn(\"Maximum Likelihood optimization failed to \"\n"
     ]
    },
    {
     "ename": "AttributeError",
     "evalue": "'numpy.ndarray' object has no attribute 'append'",
     "output_type": "error",
     "traceback": [
      "\u001B[1;31m---------------------------------------------------------------------------\u001B[0m",
      "\u001B[1;31mAttributeError\u001B[0m                            Traceback (most recent call last)",
      "Cell \u001B[1;32mIn [62], line 12\u001B[0m\n\u001B[0;32m     10\u001B[0m arima_res\u001B[38;5;241m.\u001B[39msummary()\n\u001B[0;32m     11\u001B[0m y_tmp \u001B[38;5;241m=\u001B[39m arima_res\u001B[38;5;241m.\u001B[39mpredict(\u001B[38;5;241m1\u001B[39m, \u001B[38;5;241m62\u001B[39m)\n\u001B[1;32m---> 12\u001B[0m \u001B[43my_rbf_all\u001B[49m\u001B[38;5;241;43m.\u001B[39;49m\u001B[43mappend\u001B[49m(y_tmp)\n",
      "\u001B[1;31mAttributeError\u001B[0m: 'numpy.ndarray' object has no attribute 'append'"
     ]
    }
   ],
   "source": [
    "future = 4\n",
    "for item in range(future):\n",
    "    train = X_test[:, item]\n",
    "    trend_evaluate = sm.tsa.arma_order_select_ic(train, ic=['aic', 'bic'], trend='n', max_ar=20, max_ma=5)\n",
    "    model = sm.tsa.arima.ARIMA(train, order=(trend_evaluate.aic_min_order[0], 0, trend_evaluate.aic_min_order[1]))\n",
    "    # model = sm.tsa.arima.ARIMA(train, order=(5, 0, 1))\n",
    "    arima_res = model.fit()\n",
    "    with open('./results/ARIMA/arima{}.pkl'.format(item), 'wb') as f:\n",
    "        pickle.dump(arima_res, f)\n",
    "    arima_res.summary()\n",
    "    y_tmp = arima_res.predict(1, 62)\n",
    "    y_rbf_all.append(y_tmp)"
   ],
   "metadata": {
    "collapsed": false,
    "pycharm": {
     "name": "#%%\n"
    }
   }
  },
  {
   "cell_type": "code",
   "execution_count": 64,
   "outputs": [],
   "source": [
    "future = 4\n",
    "for item in range(future):\n",
    "    with open('./results/ARIMA/arima{}.pkl'.format(item), 'rb') as f:\n",
    "        arima_res = pickle.load(f)\n",
    "    y_tmp = arima_res.predict(1, 62)\n",
    "    y_rbf_all.append(y_tmp)"
   ],
   "metadata": {
    "collapsed": false,
    "pycharm": {
     "name": "#%%\n"
    }
   }
  },
  {
   "cell_type": "code",
   "execution_count": 67,
   "outputs": [],
   "source": [
    "y_rbf_all = np.array(y_rbf_all)\n",
    "y_rbf_all = np.transpose(y_rbf_all)"
   ],
   "metadata": {
    "collapsed": false,
    "pycharm": {
     "name": "#%%\n"
    }
   }
  },
  {
   "cell_type": "code",
   "execution_count": 68,
   "outputs": [],
   "source": [
    "y_rbf_all = (y_rbf_all*std) + mean"
   ],
   "metadata": {
    "collapsed": false,
    "pycharm": {
     "name": "#%%\n"
    }
   }
  },
  {
   "cell_type": "code",
   "execution_count": 70,
   "outputs": [],
   "source": [
    "y_rbf_df = pd.DataFrame(y_rbf_all)\n",
    "y_rbf_df.to_csv('./results/ARIMA/pred_2.csv',  header=None, index=False)"
   ],
   "metadata": {
    "collapsed": false,
    "pycharm": {
     "name": "#%%\n"
    }
   }
  },
  {
   "cell_type": "code",
   "execution_count": 71,
   "outputs": [],
   "source": [
    "y_test_tr = (y_test * std) + mean\n",
    "y_test_tr = pd.DataFrame(y_test_tr)\n",
    "y_test_tr.to_csv('./results/ARIMA/true_1.csv',  header=None, index=False)"
   ],
   "metadata": {
    "collapsed": false,
    "pycharm": {
     "name": "#%%\n"
    }
   }
  },
  {
   "cell_type": "code",
   "execution_count": 75,
   "outputs": [],
   "source": [
    "y_test_tr = np.array(y_test_tr)\n",
    "y_rbf_all = np.array(y_rbf_all)"
   ],
   "metadata": {
    "collapsed": false,
    "pycharm": {
     "name": "#%%\n"
    }
   }
  },
  {
   "cell_type": "code",
   "execution_count": 76,
   "outputs": [],
   "source": [
    "#求mae，rmse\n",
    "val_index = {}\n",
    "val_index['MAE'] = []\n",
    "val_index['RMSE'] = []\n",
    "val_index['MAPE'] = []"
   ],
   "metadata": {
    "collapsed": false,
    "pycharm": {
     "name": "#%%\n"
    }
   }
  },
  {
   "cell_type": "code",
   "execution_count": 77,
   "outputs": [],
   "source": [
    "time_slice = [1, 2, 3]\n",
    "for item in time_slice:\n",
    "    pred_index = y_rbf_all[item-1]\n",
    "    val_target_index = y_test_tr[item-1]\n",
    "    #mae\n",
    "    mae = np.mean(np.abs(val_target_index - pred_index))\n",
    "    #remse\n",
    "    rmse = np.sqrt(np.mean((val_target_index-pred_index)**2))\n",
    "    #mape\n",
    "    mape = np.mean(np.abs(val_target_index-pred_index)/(pred_index + 1e-5))\n",
    "    val_index['MAE'].append(mae)\n",
    "    val_index['RMSE'].append(rmse)\n",
    "    val_index['MAPE'].append(mape)"
   ],
   "metadata": {
    "collapsed": false,
    "pycharm": {
     "name": "#%%\n"
    }
   }
  },
  {
   "cell_type": "code",
   "execution_count": 78,
   "outputs": [
    {
     "data": {
      "text/plain": "{'MAE': [5.142064310480205, 7.0184071725914325, 8.450705532712568],\n 'RMSE': [5.716669898937524, 7.315437706746204, 8.597658280194407],\n 'MAPE': [0.3251270607221506, 0.4350077453766312, 0.5099701431522894]}"
     },
     "execution_count": 78,
     "metadata": {},
     "output_type": "execute_result"
    }
   ],
   "source": [
    "val_index"
   ],
   "metadata": {
    "collapsed": false,
    "pycharm": {
     "name": "#%%\n"
    }
   }
  },
  {
   "cell_type": "code",
   "execution_count": 79,
   "outputs": [],
   "source": [
    "val_index1 = pd.DataFrame(val_index)"
   ],
   "metadata": {
    "collapsed": false,
    "pycharm": {
     "name": "#%%\n"
    }
   }
  },
  {
   "cell_type": "code",
   "execution_count": 81,
   "outputs": [
    {
     "data": {
      "text/plain": "        MAE      RMSE      MAPE\n0  5.142064  5.716670  0.325127\n1  7.018407  7.315438  0.435008\n2  8.450706  8.597658  0.509970",
      "text/html": "<div>\n<style scoped>\n    .dataframe tbody tr th:only-of-type {\n        vertical-align: middle;\n    }\n\n    .dataframe tbody tr th {\n        vertical-align: top;\n    }\n\n    .dataframe thead th {\n        text-align: right;\n    }\n</style>\n<table border=\"1\" class=\"dataframe\">\n  <thead>\n    <tr style=\"text-align: right;\">\n      <th></th>\n      <th>MAE</th>\n      <th>RMSE</th>\n      <th>MAPE</th>\n    </tr>\n  </thead>\n  <tbody>\n    <tr>\n      <th>0</th>\n      <td>5.142064</td>\n      <td>5.716670</td>\n      <td>0.325127</td>\n    </tr>\n    <tr>\n      <th>1</th>\n      <td>7.018407</td>\n      <td>7.315438</td>\n      <td>0.435008</td>\n    </tr>\n    <tr>\n      <th>2</th>\n      <td>8.450706</td>\n      <td>8.597658</td>\n      <td>0.509970</td>\n    </tr>\n  </tbody>\n</table>\n</div>"
     },
     "execution_count": 81,
     "metadata": {},
     "output_type": "execute_result"
    }
   ],
   "source": [
    "val_index1"
   ],
   "metadata": {
    "collapsed": false,
    "pycharm": {
     "name": "#%%\n"
    }
   }
  },
  {
   "cell_type": "code",
   "execution_count": 80,
   "outputs": [],
   "source": [
    "val_index1.to_csv(r'./results/ARIMA/mae.csv', index=False, sep=',', encoding='utf-8')"
   ],
   "metadata": {
    "collapsed": false,
    "pycharm": {
     "name": "#%%\n"
    }
   }
  }
 ],
 "metadata": {
  "kernelspec": {
   "display_name": "Python 3",
   "language": "python",
   "name": "python3"
  },
  "language_info": {
   "codemirror_mode": {
    "name": "ipython",
    "version": 2
   },
   "file_extension": ".py",
   "mimetype": "text/x-python",
   "name": "python",
   "nbconvert_exporter": "python",
   "pygments_lexer": "ipython2",
   "version": "2.7.6"
  }
 },
 "nbformat": 4,
 "nbformat_minor": 0
}